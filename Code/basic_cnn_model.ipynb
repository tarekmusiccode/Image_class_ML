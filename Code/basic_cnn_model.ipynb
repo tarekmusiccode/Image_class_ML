{
 "cells": [
  {
   "cell_type": "markdown",
   "metadata": {},
   "source": [
    "# Imports"
   ]
  },
  {
   "cell_type": "markdown",
   "metadata": {},
   "source": [
    "## Misc imports"
   ]
  },
  {
   "cell_type": "code",
   "execution_count": 1,
   "metadata": {},
   "outputs": [],
   "source": [
    "import os\n",
    "import cv2\n",
    "from tqdm import tqdm\n",
    "from collections import Counter"
   ]
  },
  {
   "cell_type": "code",
   "execution_count": 20,
   "metadata": {},
   "outputs": [],
   "source": [
    "from tensorflow.keras.models import load_model"
   ]
  },
  {
   "cell_type": "markdown",
   "metadata": {},
   "source": [
    "## Machine Learning imports"
   ]
  },
  {
   "cell_type": "code",
   "execution_count": 2,
   "metadata": {},
   "outputs": [],
   "source": [
    "import matplotlib.pyplot as plt\n",
    "import numpy as np\n",
    "import tensorflow as tf\n",
    "from sklearn.model_selection import train_test_split\n",
    "from sklearn.preprocessing import OneHotEncoder\n",
    "from sklearn.metrics import accuracy_score, confusion_matrix, f1_score, precision_recall_curve, precision_score, classification_report\n",
    "from tensorflow import keras\n",
    "from keras.models import Sequential\n",
    "from keras.layers import Conv2D, MaxPooling2D, Dense, Flatten\n",
    "from keras.utils import to_categorical"
   ]
  },
  {
   "cell_type": "markdown",
   "metadata": {},
   "source": [
    "# Data"
   ]
  },
  {
   "cell_type": "markdown",
   "metadata": {},
   "source": [
    "## Data Loading And Preprocessing"
   ]
  },
  {
   "cell_type": "code",
   "execution_count": 4,
   "metadata": {},
   "outputs": [
    {
     "name": "stderr",
     "output_type": "stream",
     "text": [
      "train data ABBOTTS BABBLER --->: 100%|██████████| 163/163 [00:01<00:00, 107.78it/s]\n",
      "test data ABBOTTS BABBLER --->: 100%|██████████| 5/5 [00:00<00:00, 70.77it/s]\n",
      "val data ABBOTTS BABBLER --->: 100%|██████████| 5/5 [00:00<00:00, 72.46it/s]\n",
      "train data ABBOTTS BOOBY --->: 100%|██████████| 180/180 [00:01<00:00, 108.87it/s]\n",
      "test data ABBOTTS BOOBY --->: 100%|██████████| 5/5 [00:00<00:00, 93.74it/s]\n",
      "val data ABBOTTS BOOBY --->: 100%|██████████| 5/5 [00:00<00:00, 125.65it/s]\n",
      "train data ABYSSINIAN GROUND HORNBILL --->: 100%|██████████| 179/179 [00:01<00:00, 119.19it/s]\n",
      "test data ABYSSINIAN GROUND HORNBILL --->: 100%|██████████| 5/5 [00:00<00:00, 125.89it/s]\n",
      "val data ABYSSINIAN GROUND HORNBILL --->: 100%|██████████| 5/5 [00:00<00:00, 73.07it/s]\n",
      "train data AFRICAN CROWNED CRANE --->: 100%|██████████| 135/135 [00:01<00:00, 103.56it/s]\n",
      "test data AFRICAN CROWNED CRANE --->: 100%|██████████| 5/5 [00:00<00:00, 73.56it/s]\n",
      "val data AFRICAN CROWNED CRANE --->: 100%|██████████| 5/5 [00:00<00:00, 135.14it/s]\n",
      "train data AFRICAN EMERALD CUCKOO --->: 100%|██████████| 154/154 [00:01<00:00, 108.80it/s]\n",
      "test data AFRICAN EMERALD CUCKOO --->: 100%|██████████| 5/5 [00:00<00:00, 46.62it/s]\n",
      "val data AFRICAN EMERALD CUCKOO --->: 100%|██████████| 5/5 [00:00<00:00, 79.44it/s]\n",
      "train data AFRICAN FIREFINCH --->: 100%|██████████| 137/137 [00:01<00:00, 93.95it/s] \n",
      "test data AFRICAN FIREFINCH --->: 100%|██████████| 5/5 [00:00<00:00, 58.77it/s]\n",
      "val data AFRICAN FIREFINCH --->: 100%|██████████| 5/5 [00:00<00:00, 84.87it/s]\n",
      "train data AFRICAN OYSTER CATCHER --->: 100%|██████████| 155/155 [00:01<00:00, 120.20it/s]\n",
      "test data AFRICAN OYSTER CATCHER --->: 100%|██████████| 5/5 [00:00<00:00, 113.43it/s]\n",
      "val data AFRICAN OYSTER CATCHER --->: 100%|██████████| 5/5 [00:00<00:00, 52.91it/s]\n",
      "train data AFRICAN PIED HORNBILL --->: 100%|██████████| 187/187 [00:02<00:00, 84.78it/s]\n",
      "test data AFRICAN PIED HORNBILL --->: 100%|██████████| 5/5 [00:00<00:00, 65.55it/s]\n",
      "val data AFRICAN PIED HORNBILL --->: 100%|██████████| 5/5 [00:00<00:00, 115.43it/s]\n",
      "train data AFRICAN PYGMY GOOSE --->: 100%|██████████| 179/179 [00:01<00:00, 96.90it/s]\n",
      "test data AFRICAN PYGMY GOOSE --->: 100%|██████████| 5/5 [00:00<00:00, 64.58it/s]\n",
      "val data AFRICAN PYGMY GOOSE --->: 100%|██████████| 5/5 [00:00<00:00, 52.08it/s]\n",
      "train data ALBATROSS --->: 100%|██████████| 132/132 [00:01<00:00, 80.12it/s]\n",
      "test data ALBATROSS --->: 100%|██████████| 5/5 [00:00<00:00, 65.27it/s]\n",
      "val data ALBATROSS --->: 100%|██████████| 5/5 [00:00<00:00, 67.57it/s]\n",
      "train data ALBERTS TOWHEE --->: 100%|██████████| 161/161 [00:01<00:00, 89.43it/s] \n",
      "test data ALBERTS TOWHEE --->: 100%|██████████| 5/5 [00:00<00:00, 96.34it/s]\n",
      "val data ALBERTS TOWHEE --->: 100%|██████████| 5/5 [00:00<00:00, 90.28it/s]\n",
      "train data ALEXANDRINE PARAKEET --->: 100%|██████████| 165/165 [00:01<00:00, 114.40it/s]\n",
      "test data ALEXANDRINE PARAKEET --->: 100%|██████████| 5/5 [00:00<00:00, 53.34it/s]\n",
      "val data ALEXANDRINE PARAKEET --->: 100%|██████████| 5/5 [00:00<00:00, 66.66it/s]\n",
      "train data ALPINE CHOUGH --->: 100%|██████████| 166/166 [00:01<00:00, 99.20it/s] \n",
      "test data ALPINE CHOUGH --->: 100%|██████████| 5/5 [00:00<00:00, 85.77it/s]\n",
      "val data ALPINE CHOUGH --->: 100%|██████████| 5/5 [00:00<00:00, 88.63it/s]\n",
      "train data ALTAMIRA YELLOWTHROAT --->: 100%|██████████| 150/150 [00:01<00:00, 104.32it/s]\n",
      "test data ALTAMIRA YELLOWTHROAT --->: 100%|██████████| 5/5 [00:00<00:00, 56.03it/s]\n",
      "val data ALTAMIRA YELLOWTHROAT --->: 100%|██████████| 5/5 [00:00<00:00, 72.47it/s]\n",
      "train data AMERICAN AVOCET --->: 100%|██████████| 179/179 [00:02<00:00, 70.67it/s]\n",
      "test data AMERICAN AVOCET --->: 100%|██████████| 5/5 [00:00<00:00, 109.17it/s]\n",
      "val data AMERICAN AVOCET --->: 100%|██████████| 5/5 [00:00<00:00, 83.42it/s]\n",
      "train data AMERICAN BITTERN --->: 100%|██████████| 170/170 [00:01<00:00, 99.66it/s] \n",
      "test data AMERICAN BITTERN --->: 100%|██████████| 5/5 [00:00<00:00, 45.78it/s]\n",
      "val data AMERICAN BITTERN --->: 100%|██████████| 5/5 [00:00<00:00, 90.75it/s]\n"
     ]
    }
   ],
   "source": [
    "img_size = 200\n",
    "\n",
    "data_path = \"../Data\"\n",
    "\n",
    "datas = os.listdir(os.path.join(data_path, \"train\"))\n",
    "images_train = []\n",
    "images_test = []\n",
    "images_val = []\n",
    "\n",
    "class_num = -1\n",
    "for data in datas:\n",
    "    class_num += 1\n",
    "    for img in tqdm(os.listdir(os.path.join(data_path, \"train\", data)), desc=f\"train data {data} --->\"):\n",
    "        img_np = cv2.resize(cv2.imread(os.path.join(os.path.join(data_path, \"train\", data), img), cv2.COLOR_BGR2RGB).astype(np.float32) / 255., (img_size, img_size))\n",
    "        images_train.append(\n",
    "            {\n",
    "                \"Image\": img_np,\n",
    "                \"Class\": class_num,\n",
    "                class_num: data\n",
    "            })\n",
    "    for img in tqdm(os.listdir(os.path.join(data_path, \"test\", data)), desc=f\"test data {data} --->\"):\n",
    "        img_np = cv2.resize(cv2.imread(os.path.join(os.path.join(data_path, \"test\", data), img), cv2.COLOR_BGR2RGB).astype(np.float32) / 255., (img_size, img_size))\n",
    "        images_test.append(\n",
    "            {\n",
    "                \"Image\": img_np,\n",
    "                \"Class\": class_num,\n",
    "                class_num: data\n",
    "            })\n",
    "    for img in tqdm(os.listdir(os.path.join(data_path, \"valid\", data)), desc=f\"val data {data} --->\"):\n",
    "        img_np = cv2.resize(cv2.imread(os.path.join(os.path.join(data_path, \"valid\", data), img), cv2.COLOR_BGR2RGB).astype(np.float32) / 255., (img_size, img_size))\n",
    "        images_val.append(\n",
    "            {\n",
    "                \"Image\": img_np,\n",
    "                \"Class\": class_num,\n",
    "                class_num: data\n",
    "            })\n",
    "    if class_num == 15:\n",
    "        class_num += 1\n",
    "        break"
   ]
  },
  {
   "cell_type": "markdown",
   "metadata": {},
   "source": [
    "## Split And Encoding"
   ]
  },
  {
   "cell_type": "code",
   "execution_count": 5,
   "metadata": {},
   "outputs": [],
   "source": [
    "X_train = []\n",
    "y_train = []\n",
    "for data in images_train:\n",
    "    X_train.append(data[\"Image\"])\n",
    "    y_train.append(data[\"Class\"])\n",
    "X_test = []\n",
    "y_test = []\n",
    "for data in images_test:\n",
    "    X_test.append(data[\"Image\"])\n",
    "    y_test.append(data[\"Class\"])\n",
    "X_val = []\n",
    "y_val = []\n",
    "for data in images_val:\n",
    "    X_val.append(data[\"Image\"])\n",
    "    y_val.append(data[\"Class\"])\n",
    "\n",
    "\n",
    "X_train = np.array(X_train).reshape(-1, img_size, img_size, 3)\n",
    "y_train = np.array(y_train)\n",
    "X_test = np.array(X_test).reshape(-1, img_size, img_size, 3)\n",
    "y_test = np.array(y_test)\n",
    "X_val = np.array(X_val).reshape(-1, img_size, img_size, 3)\n",
    "y_val = np.array(y_val)"
   ]
  },
  {
   "cell_type": "code",
   "execution_count": 6,
   "metadata": {},
   "outputs": [],
   "source": [
    "y_train_encoded = to_categorical(y_train, num_classes=class_num)\n",
    "y_test_encoded = to_categorical(y_test, num_classes=class_num)\n",
    "y_val_encoded = to_categorical(y_val, num_classes=class_num)"
   ]
  },
  {
   "cell_type": "code",
   "execution_count": 7,
   "metadata": {},
   "outputs": [
    {
     "name": "stdout",
     "output_type": "stream",
     "text": [
      "(2592, 200, 200, 3)\n",
      "(2592,)\n",
      "(2592, 16)\n",
      "(80, 200, 200, 3)\n",
      "(80,)\n",
      "(80, 16)\n",
      "(80, 200, 200, 3)\n",
      "(80,)\n",
      "(80, 16)\n"
     ]
    }
   ],
   "source": [
    "print(X_train.shape)\n",
    "print(y_train.shape)\n",
    "print(y_train_encoded.shape)\n",
    "print(X_test.shape)\n",
    "print(y_test.shape)\n",
    "print(y_test_encoded.shape)\n",
    "print(X_val.shape)\n",
    "print(y_val.shape)\n",
    "print(y_val_encoded.shape)"
   ]
  },
  {
   "cell_type": "code",
   "execution_count": 8,
   "metadata": {},
   "outputs": [
    {
     "data": {
      "image/png": "[encoded data removed]",
      "text/plain": [
       "<Figure size 640x480 with 1 Axes>"
      ]
     },
     "metadata": {},
     "output_type": "display_data"
    }
   ],
   "source": [
    "def visualize_class_distribution(y_train, y_test):\n",
    "    \"\"\"\n",
    "    Visualizes the class distribution in training and testing datasets when the labels are provided as lists.\n",
    "    Adds a numeric label at the top of each bar showing the count.\n",
    "\n",
    "    Parameters:\n",
    "    - y_train: List of training labels.\n",
    "    - y_test: List of testing labels.\n",
    "    \"\"\"\n",
    "    train_counter = Counter(y_train)\n",
    "    test_counter = Counter(y_test)\n",
    "\n",
    "    all_labels = list(set(train_counter.keys()).union(set(test_counter.keys())))\n",
    "    all_labels.sort()  # Sort the labels for consistent plotting\n",
    "    train_counts = [train_counter[label] for label in all_labels]\n",
    "    test_counts = [test_counter[label] for label in all_labels]\n",
    "\n",
    "    x = range(len(all_labels))  # Label locations\n",
    "\n",
    "    fig, ax = plt.subplots()\n",
    "    train_bars = ax.bar([i - 0.2 for i in x], train_counts, width=0.4, label='Train', align='center')\n",
    "    test_bars = ax.bar([i + 0.2 for i in x], test_counts, width=0.4, label='Test', align='center')\n",
    "\n",
    "    ax.set_ylabel('Counts')\n",
    "    ax.set_title('Class distribution in training and testing datasets')\n",
    "    ax.set_xticks(x)\n",
    "    ax.set_xticklabels(all_labels, rotation='horizontal')\n",
    "    ax.legend()\n",
    "\n",
    "    def autolabel(bars):\n",
    "        \"\"\"Attach a text label above each bar displaying its height.\"\"\"\n",
    "        for bar in bars:\n",
    "            height = bar.get_height()\n",
    "            ax.annotate('{}'.format(height),\n",
    "                        xy=(bar.get_x() + bar.get_width() / 2, height),\n",
    "                        xytext=(0, 1),  # 3 points vertical offset\n",
    "                        textcoords=\"offset points\",\n",
    "                        ha='center', va='bottom')\n",
    "\n",
    "    autolabel(train_bars)\n",
    "    autolabel(test_bars)\n",
    "\n",
    "    plt.tight_layout()\n",
    "    plt.show()\n",
    "\n",
    "visualize_class_distribution(y_train, y_test)"
   ]
  },
  {
   "cell_type": "markdown",
   "metadata": {},
   "source": [
    "# Machine Learning"
   ]
  },
  {
   "cell_type": "markdown",
   "metadata": {},
   "source": [
    "## CNN Model"
   ]
  },
  {
   "cell_type": "code",
   "execution_count": 12,
   "metadata": {},
   "outputs": [
    {
     "data": {
      "text/html": [
       "<pre style=\"white-space:pre;overflow-x:auto;line-height:normal;font-family:Menlo,'DejaVu Sans Mono',consolas,'Courier New',monospace\"><span style=\"font-weight: bold\">Model: \"sequential_1\"</span>\n",
       "</pre>\n"
      ],
      "text/plain": [
       "\u001b[1mModel: \"sequential_1\"\u001b[0m\n"
      ]
     },
     "metadata": {},
     "output_type": "display_data"
    },
    {
     "data": {
      "text/html": [
       "<pre style=\"white-space:pre;overflow-x:auto;line-height:normal;font-family:Menlo,'DejaVu Sans Mono',consolas,'Courier New',monospace\">┏━━━━━━━━━━━━━━━━━━━━━━━━━━━━━━━━━┳━━━━━━━━━━━━━━━━━━━━━━━━┳━━━━━━━━━━━━━━━┓\n",
       "┃<span style=\"font-weight: bold\"> Layer (type)                    </span>┃<span style=\"font-weight: bold\"> Output Shape           </span>┃<span style=\"font-weight: bold\">       Param # </span>┃\n",
       "┡━━━━━━━━━━━━━━━━━━━━━━━━━━━━━━━━━╇━━━━━━━━━━━━━━━━━━━━━━━━╇━━━━━━━━━━━━━━━┩\n",
       "│ conv2d_3 (<span style=\"color: #0087ff; text-decoration-color: #0087ff\">Conv2D</span>)               │ (<span style=\"color: #00d7ff; text-decoration-color: #00d7ff\">None</span>, <span style=\"color: #00af00; text-decoration-color: #00af00\">197</span>, <span style=\"color: #00af00; text-decoration-color: #00af00\">197</span>, <span style=\"color: #00af00; text-decoration-color: #00af00\">32</span>)   │         <span style=\"color: #00af00; text-decoration-color: #00af00\">1,568</span> │\n",
       "├─────────────────────────────────┼────────────────────────┼───────────────┤\n",
       "│ max_pooling2d_3 (<span style=\"color: #0087ff; text-decoration-color: #0087ff\">MaxPooling2D</span>)  │ (<span style=\"color: #00d7ff; text-decoration-color: #00d7ff\">None</span>, <span style=\"color: #00af00; text-decoration-color: #00af00\">98</span>, <span style=\"color: #00af00; text-decoration-color: #00af00\">98</span>, <span style=\"color: #00af00; text-decoration-color: #00af00\">32</span>)     │             <span style=\"color: #00af00; text-decoration-color: #00af00\">0</span> │\n",
       "├─────────────────────────────────┼────────────────────────┼───────────────┤\n",
       "│ conv2d_4 (<span style=\"color: #0087ff; text-decoration-color: #0087ff\">Conv2D</span>)               │ (<span style=\"color: #00d7ff; text-decoration-color: #00d7ff\">None</span>, <span style=\"color: #00af00; text-decoration-color: #00af00\">96</span>, <span style=\"color: #00af00; text-decoration-color: #00af00\">96</span>, <span style=\"color: #00af00; text-decoration-color: #00af00\">64</span>)     │        <span style=\"color: #00af00; text-decoration-color: #00af00\">18,496</span> │\n",
       "├─────────────────────────────────┼────────────────────────┼───────────────┤\n",
       "│ max_pooling2d_4 (<span style=\"color: #0087ff; text-decoration-color: #0087ff\">MaxPooling2D</span>)  │ (<span style=\"color: #00d7ff; text-decoration-color: #00d7ff\">None</span>, <span style=\"color: #00af00; text-decoration-color: #00af00\">48</span>, <span style=\"color: #00af00; text-decoration-color: #00af00\">48</span>, <span style=\"color: #00af00; text-decoration-color: #00af00\">64</span>)     │             <span style=\"color: #00af00; text-decoration-color: #00af00\">0</span> │\n",
       "├─────────────────────────────────┼────────────────────────┼───────────────┤\n",
       "│ conv2d_5 (<span style=\"color: #0087ff; text-decoration-color: #0087ff\">Conv2D</span>)               │ (<span style=\"color: #00d7ff; text-decoration-color: #00d7ff\">None</span>, <span style=\"color: #00af00; text-decoration-color: #00af00\">46</span>, <span style=\"color: #00af00; text-decoration-color: #00af00\">46</span>, <span style=\"color: #00af00; text-decoration-color: #00af00\">128</span>)    │        <span style=\"color: #00af00; text-decoration-color: #00af00\">73,856</span> │\n",
       "├─────────────────────────────────┼────────────────────────┼───────────────┤\n",
       "│ max_pooling2d_5 (<span style=\"color: #0087ff; text-decoration-color: #0087ff\">MaxPooling2D</span>)  │ (<span style=\"color: #00d7ff; text-decoration-color: #00d7ff\">None</span>, <span style=\"color: #00af00; text-decoration-color: #00af00\">23</span>, <span style=\"color: #00af00; text-decoration-color: #00af00\">23</span>, <span style=\"color: #00af00; text-decoration-color: #00af00\">128</span>)    │             <span style=\"color: #00af00; text-decoration-color: #00af00\">0</span> │\n",
       "├─────────────────────────────────┼────────────────────────┼───────────────┤\n",
       "│ flatten_1 (<span style=\"color: #0087ff; text-decoration-color: #0087ff\">Flatten</span>)             │ (<span style=\"color: #00d7ff; text-decoration-color: #00d7ff\">None</span>, <span style=\"color: #00af00; text-decoration-color: #00af00\">67712</span>)          │             <span style=\"color: #00af00; text-decoration-color: #00af00\">0</span> │\n",
       "├─────────────────────────────────┼────────────────────────┼───────────────┤\n",
       "│ dense_6 (<span style=\"color: #0087ff; text-decoration-color: #0087ff\">Dense</span>)                 │ (<span style=\"color: #00d7ff; text-decoration-color: #00d7ff\">None</span>, <span style=\"color: #00af00; text-decoration-color: #00af00\">256</span>)            │    <span style=\"color: #00af00; text-decoration-color: #00af00\">17,334,528</span> │\n",
       "├─────────────────────────────────┼────────────────────────┼───────────────┤\n",
       "│ dense_7 (<span style=\"color: #0087ff; text-decoration-color: #0087ff\">Dense</span>)                 │ (<span style=\"color: #00d7ff; text-decoration-color: #00d7ff\">None</span>, <span style=\"color: #00af00; text-decoration-color: #00af00\">128</span>)            │        <span style=\"color: #00af00; text-decoration-color: #00af00\">32,896</span> │\n",
       "├─────────────────────────────────┼────────────────────────┼───────────────┤\n",
       "│ dense_8 (<span style=\"color: #0087ff; text-decoration-color: #0087ff\">Dense</span>)                 │ (<span style=\"color: #00d7ff; text-decoration-color: #00d7ff\">None</span>, <span style=\"color: #00af00; text-decoration-color: #00af00\">128</span>)            │        <span style=\"color: #00af00; text-decoration-color: #00af00\">16,512</span> │\n",
       "├─────────────────────────────────┼────────────────────────┼───────────────┤\n",
       "│ dense_9 (<span style=\"color: #0087ff; text-decoration-color: #0087ff\">Dense</span>)                 │ (<span style=\"color: #00d7ff; text-decoration-color: #00d7ff\">None</span>, <span style=\"color: #00af00; text-decoration-color: #00af00\">64</span>)             │         <span style=\"color: #00af00; text-decoration-color: #00af00\">8,256</span> │\n",
       "├─────────────────────────────────┼────────────────────────┼───────────────┤\n",
       "│ dense_10 (<span style=\"color: #0087ff; text-decoration-color: #0087ff\">Dense</span>)                │ (<span style=\"color: #00d7ff; text-decoration-color: #00d7ff\">None</span>, <span style=\"color: #00af00; text-decoration-color: #00af00\">64</span>)             │         <span style=\"color: #00af00; text-decoration-color: #00af00\">4,160</span> │\n",
       "├─────────────────────────────────┼────────────────────────┼───────────────┤\n",
       "│ dense_11 (<span style=\"color: #0087ff; text-decoration-color: #0087ff\">Dense</span>)                │ (<span style=\"color: #00d7ff; text-decoration-color: #00d7ff\">None</span>, <span style=\"color: #00af00; text-decoration-color: #00af00\">32</span>)             │         <span style=\"color: #00af00; text-decoration-color: #00af00\">2,080</span> │\n",
       "├─────────────────────────────────┼────────────────────────┼───────────────┤\n",
       "│ dense_12 (<span style=\"color: #0087ff; text-decoration-color: #0087ff\">Dense</span>)                │ (<span style=\"color: #00d7ff; text-decoration-color: #00d7ff\">None</span>, <span style=\"color: #00af00; text-decoration-color: #00af00\">16</span>)             │           <span style=\"color: #00af00; text-decoration-color: #00af00\">528</span> │\n",
       "└─────────────────────────────────┴────────────────────────┴───────────────┘\n",
       "</pre>\n"
      ],
      "text/plain": [
       "┏━━━━━━━━━━━━━━━━━━━━━━━━━━━━━━━━━┳━━━━━━━━━━━━━━━━━━━━━━━━┳━━━━━━━━━━━━━━━┓\n",
       "┃\u001b[1m \u001b[0m\u001b[1mLayer (type)                   \u001b[0m\u001b[1m \u001b[0m┃\u001b[1m \u001b[0m\u001b[1mOutput Shape          \u001b[0m\u001b[1m \u001b[0m┃\u001b[1m \u001b[0m\u001b[1m      Param #\u001b[0m\u001b[1m \u001b[0m┃\n",
       "┡━━━━━━━━━━━━━━━━━━━━━━━━━━━━━━━━━╇━━━━━━━━━━━━━━━━━━━━━━━━╇━━━━━━━━━━━━━━━┩\n",
       "│ conv2d_3 (\u001b[38;5;33mConv2D\u001b[0m)               │ (\u001b[38;5;45mNone\u001b[0m, \u001b[38;5;34m197\u001b[0m, \u001b[38;5;34m197\u001b[0m, \u001b[38;5;34m32\u001b[0m)   │         \u001b[38;5;34m1,568\u001b[0m │\n",
       "├─────────────────────────────────┼────────────────────────┼───────────────┤\n",
       "│ max_pooling2d_3 (\u001b[38;5;33mMaxPooling2D\u001b[0m)  │ (\u001b[38;5;45mNone\u001b[0m, \u001b[38;5;34m98\u001b[0m, \u001b[38;5;34m98\u001b[0m, \u001b[38;5;34m32\u001b[0m)     │             \u001b[38;5;34m0\u001b[0m │\n",
       "├─────────────────────────────────┼────────────────────────┼───────────────┤\n",
       "│ conv2d_4 (\u001b[38;5;33mConv2D\u001b[0m)               │ (\u001b[38;5;45mNone\u001b[0m, \u001b[38;5;34m96\u001b[0m, \u001b[38;5;34m96\u001b[0m, \u001b[38;5;34m64\u001b[0m)     │        \u001b[38;5;34m18,496\u001b[0m │\n",
       "├─────────────────────────────────┼────────────────────────┼───────────────┤\n",
       "│ max_pooling2d_4 (\u001b[38;5;33mMaxPooling2D\u001b[0m)  │ (\u001b[38;5;45mNone\u001b[0m, \u001b[38;5;34m48\u001b[0m, \u001b[38;5;34m48\u001b[0m, \u001b[38;5;34m64\u001b[0m)     │             \u001b[38;5;34m0\u001b[0m │\n",
       "├─────────────────────────────────┼────────────────────────┼───────────────┤\n",
       "│ conv2d_5 (\u001b[38;5;33mConv2D\u001b[0m)               │ (\u001b[38;5;45mNone\u001b[0m, \u001b[38;5;34m46\u001b[0m, \u001b[38;5;34m46\u001b[0m, \u001b[38;5;34m128\u001b[0m)    │        \u001b[38;5;34m73,856\u001b[0m │\n",
       "├─────────────────────────────────┼────────────────────────┼───────────────┤\n",
       "│ max_pooling2d_5 (\u001b[38;5;33mMaxPooling2D\u001b[0m)  │ (\u001b[38;5;45mNone\u001b[0m, \u001b[38;5;34m23\u001b[0m, \u001b[38;5;34m23\u001b[0m, \u001b[38;5;34m128\u001b[0m)    │             \u001b[38;5;34m0\u001b[0m │\n",
       "├─────────────────────────────────┼────────────────────────┼───────────────┤\n",
       "│ flatten_1 (\u001b[38;5;33mFlatten\u001b[0m)             │ (\u001b[38;5;45mNone\u001b[0m, \u001b[38;5;34m67712\u001b[0m)          │             \u001b[38;5;34m0\u001b[0m │\n",
       "├─────────────────────────────────┼────────────────────────┼───────────────┤\n",
       "│ dense_6 (\u001b[38;5;33mDense\u001b[0m)                 │ (\u001b[38;5;45mNone\u001b[0m, \u001b[38;5;34m256\u001b[0m)            │    \u001b[38;5;34m17,334,528\u001b[0m │\n",
       "├─────────────────────────────────┼────────────────────────┼───────────────┤\n",
       "│ dense_7 (\u001b[38;5;33mDense\u001b[0m)                 │ (\u001b[38;5;45mNone\u001b[0m, \u001b[38;5;34m128\u001b[0m)            │        \u001b[38;5;34m32,896\u001b[0m │\n",
       "├─────────────────────────────────┼────────────────────────┼───────────────┤\n",
       "│ dense_8 (\u001b[38;5;33mDense\u001b[0m)                 │ (\u001b[38;5;45mNone\u001b[0m, \u001b[38;5;34m128\u001b[0m)            │        \u001b[38;5;34m16,512\u001b[0m │\n",
       "├─────────────────────────────────┼────────────────────────┼───────────────┤\n",
       "│ dense_9 (\u001b[38;5;33mDense\u001b[0m)                 │ (\u001b[38;5;45mNone\u001b[0m, \u001b[38;5;34m64\u001b[0m)             │         \u001b[38;5;34m8,256\u001b[0m │\n",
       "├─────────────────────────────────┼────────────────────────┼───────────────┤\n",
       "│ dense_10 (\u001b[38;5;33mDense\u001b[0m)                │ (\u001b[38;5;45mNone\u001b[0m, \u001b[38;5;34m64\u001b[0m)             │         \u001b[38;5;34m4,160\u001b[0m │\n",
       "├─────────────────────────────────┼────────────────────────┼───────────────┤\n",
       "│ dense_11 (\u001b[38;5;33mDense\u001b[0m)                │ (\u001b[38;5;45mNone\u001b[0m, \u001b[38;5;34m32\u001b[0m)             │         \u001b[38;5;34m2,080\u001b[0m │\n",
       "├─────────────────────────────────┼────────────────────────┼───────────────┤\n",
       "│ dense_12 (\u001b[38;5;33mDense\u001b[0m)                │ (\u001b[38;5;45mNone\u001b[0m, \u001b[38;5;34m16\u001b[0m)             │           \u001b[38;5;34m528\u001b[0m │\n",
       "└─────────────────────────────────┴────────────────────────┴───────────────┘\n"
      ]
     },
     "metadata": {},
     "output_type": "display_data"
    },
    {
     "data": {
      "text/html": [
       "<pre style=\"white-space:pre;overflow-x:auto;line-height:normal;font-family:Menlo,'DejaVu Sans Mono',consolas,'Courier New',monospace\"><span style=\"font-weight: bold\"> Total params: </span><span style=\"color: #00af00; text-decoration-color: #00af00\">17,492,880</span> (66.73 MB)\n",
       "</pre>\n"
      ],
      "text/plain": [
       "\u001b[1m Total params: \u001b[0m\u001b[38;5;34m17,492,880\u001b[0m (66.73 MB)\n"
      ]
     },
     "metadata": {},
     "output_type": "display_data"
    },
    {
     "data": {
      "text/html": [
       "<pre style=\"white-space:pre;overflow-x:auto;line-height:normal;font-family:Menlo,'DejaVu Sans Mono',consolas,'Courier New',monospace\"><span style=\"font-weight: bold\"> Trainable params: </span><span style=\"color: #00af00; text-decoration-color: #00af00\">17,492,880</span> (66.73 MB)\n",
       "</pre>\n"
      ],
      "text/plain": [
       "\u001b[1m Trainable params: \u001b[0m\u001b[38;5;34m17,492,880\u001b[0m (66.73 MB)\n"
      ]
     },
     "metadata": {},
     "output_type": "display_data"
    },
    {
     "data": {
      "text/html": [
       "<pre style=\"white-space:pre;overflow-x:auto;line-height:normal;font-family:Menlo,'DejaVu Sans Mono',consolas,'Courier New',monospace\"><span style=\"font-weight: bold\"> Non-trainable params: </span><span style=\"color: #00af00; text-decoration-color: #00af00\">0</span> (0.00 B)\n",
       "</pre>\n"
      ],
      "text/plain": [
       "\u001b[1m Non-trainable params: \u001b[0m\u001b[38;5;34m0\u001b[0m (0.00 B)\n"
      ]
     },
     "metadata": {},
     "output_type": "display_data"
    }
   ],
   "source": [
    "model = Sequential(\n",
    "    [\n",
    "        Conv2D(32, (4, 4), activation=\"relu\", input_shape=(img_size, img_size, 3)),\n",
    "        MaxPooling2D((2, 2)),\n",
    "        Conv2D(64, (3, 3), activation=\"relu\"),\n",
    "        MaxPooling2D((2, 2)),\n",
    "        Conv2D(128, (3, 3), activation=\"relu\"),\n",
    "        MaxPooling2D((2, 2)),\n",
    "        Flatten(),\n",
    "        Dense(256, activation=\"relu\"),\n",
    "        Dense(128, activation=\"relu\"),\n",
    "        Dense(128, activation=\"relu\"),\n",
    "        Dense(64, activation=\"relu\"),\n",
    "        Dense(64, activation=\"relu\"),\n",
    "        Dense(32, activation=\"relu\"),\n",
    "        Dense(class_num, activation=\"softmax\")\n",
    "    ]\n",
    ")\n",
    "model.compile(optimizer=\"adam\", loss='categorical_crossentropy', metrics=['accuracy', 'precision', 'recall'])\n",
    "model.summary()"
   ]
  },
  {
   "cell_type": "code",
   "execution_count": 35,
   "metadata": {},
   "outputs": [
    {
     "name": "stdout",
     "output_type": "stream",
     "text": [
      "Epoch 1/3\n",
      "\u001b[1m81/81\u001b[0m \u001b[32m━━━━━━━━━━━━━━━━━━━━\u001b[0m\u001b[37m\u001b[0m \u001b[1m68s\u001b[0m 803ms/step - accuracy: 0.9590 - loss: 0.1623 - precision: 0.9645 - recall: 0.9502 - val_accuracy: 0.7750 - val_loss: 1.2721 - val_precision: 0.7792 - val_recall: 0.7500\n",
      "Epoch 2/3\n",
      "\u001b[1m81/81\u001b[0m \u001b[32m━━━━━━━━━━━━━━━━━━━━\u001b[0m\u001b[37m\u001b[0m \u001b[1m59s\u001b[0m 734ms/step - accuracy: 0.9783 - loss: 0.0739 - precision: 0.9819 - recall: 0.9743 - val_accuracy: 0.8125 - val_loss: 1.0176 - val_precision: 0.8312 - val_recall: 0.8000\n",
      "Epoch 3/3\n",
      "\u001b[1m81/81\u001b[0m \u001b[32m━━━━━━━━━━━━━━━━━━━━\u001b[0m\u001b[37m\u001b[0m \u001b[1m63s\u001b[0m 782ms/step - accuracy: 0.9831 - loss: 0.0609 - precision: 0.9831 - recall: 0.9812 - val_accuracy: 0.7500 - val_loss: 1.0961 - val_precision: 0.7792 - val_recall: 0.7500\n"
     ]
    }
   ],
   "source": [
    "model_history = model.fit(X_train, y_train_encoded, epochs=3, validation_data=(X_val, y_val_encoded))"
   ]
  },
  {
   "cell_type": "code",
   "execution_count": 36,
   "metadata": {},
   "outputs": [
    {
     "name": "stdout",
     "output_type": "stream",
     "text": [
      "\u001b[1m3/3\u001b[0m \u001b[32m━━━━━━━━━━━━━━━━━━━━\u001b[0m\u001b[37m\u001b[0m \u001b[1m7s\u001b[0m 632ms/step\n"
     ]
    }
   ],
   "source": [
    "prediction = model.predict(X_test)"
   ]
  },
  {
   "cell_type": "code",
   "execution_count": 37,
   "metadata": {},
   "outputs": [],
   "source": [
    "pred = np.argmax(prediction, axis=1)"
   ]
  },
  {
   "cell_type": "code",
   "execution_count": 1,
   "metadata": {},
   "outputs": [
    {
     "ename": "NameError",
     "evalue": "name 'accuracy_score' is not defined",
     "output_type": "error",
     "traceback": [
      "\u001b[1;31m---------------------------------------------------------------------------\u001b[0m",
      "\u001b[1;31mNameError\u001b[0m                                 Traceback (most recent call last)",
      "Cell \u001b[1;32mIn[1], line 1\u001b[0m\n\u001b[1;32m----> 1\u001b[0m accuracy \u001b[38;5;241m=\u001b[39m \u001b[43maccuracy_score\u001b[49m(y_test, pred)\n\u001b[0;32m      2\u001b[0m \u001b[38;5;28mprint\u001b[39m(\u001b[38;5;124m\"\u001b[39m\u001b[38;5;124mAccuracy:\u001b[39m\u001b[38;5;124m\"\u001b[39m, accuracy)\n",
      "\u001b[1;31mNameError\u001b[0m: name 'accuracy_score' is not defined"
     ]
    }
   ],
   "source": [
    "accuracy = accuracy_score(y_test, pred)\n",
    "print(\"Accuracy:\", accuracy)"
   ]
  },
  {
   "cell_type": "code",
   "execution_count": 39,
   "metadata": {},
   "outputs": [
    {
     "name": "stdout",
     "output_type": "stream",
     "text": [
      "              precision    recall  f1-score   support\n",
      "\n",
      "           0       0.36      0.80      0.50         5\n",
      "           1       1.00      0.20      0.33         5\n",
      "           2       0.71      1.00      0.83         5\n",
      "           3       0.80      0.80      0.80         5\n",
      "           4       1.00      0.80      0.89         5\n",
      "           5       1.00      0.80      0.89         5\n",
      "           6       0.83      1.00      0.91         5\n",
      "           7       0.75      0.60      0.67         5\n",
      "           8       1.00      1.00      1.00         5\n",
      "           9       1.00      0.80      0.89         5\n",
      "          10       1.00      0.40      0.57         5\n",
      "          11       0.80      0.80      0.80         5\n",
      "          12       0.83      1.00      0.91         5\n",
      "          13       0.50      0.60      0.55         5\n",
      "          14       0.75      0.60      0.67         5\n",
      "          15       0.67      0.80      0.73         5\n",
      "\n",
      "    accuracy                           0.75        80\n",
      "   macro avg       0.81      0.75      0.75        80\n",
      "weighted avg       0.81      0.75      0.75        80\n",
      "\n"
     ]
    }
   ],
   "source": [
    "report = classification_report(y_test, pred)\n",
    "print(report)"
   ]
  },
  {
   "cell_type": "code",
   "execution_count": 40,
   "metadata": {},
   "outputs": [
    {
     "data": {
      "image/png": "[encoded data removed]",
      "text/plain": [
       "<Figure size 640x480 with 1 Axes>"
      ]
     },
     "metadata": {},
     "output_type": "display_data"
    }
   ],
   "source": [
    "fig = plt.figure()\n",
    "plt.plot(model_history.history[\"val_loss\"], color='red', label=\"val_loss\")\n",
    "plt.plot(model_history.history[\"val_accuracy\"], color='orange', label=\"val_accuracy\")\n",
    "plt.plot(model_history.history[\"val_precision\"], color='purple', label=\"val_precision\")\n",
    "plt.plot(model_history.history[\"val_recall\"], color='black', label=\"val_recall\")\n",
    "plt.plot(model_history.history[\"precision\"], color='blue', label=\"precision\")\n",
    "plt.plot(model_history.history[\"accuracy\"], color='green', label=\"accuracy\")\n",
    "plt.plot(model_history.history[\"recall\"], color='yellow', label=\"recall\")\n",
    "fig.suptitle(\"History\", fontsize=20)\n",
    "plt.legend(loc=\"upper left\")\n",
    "plt.show()"
   ]
  },
  {
   "cell_type": "code",
   "execution_count": 42,
   "metadata": {},
   "outputs": [
    {
     "name": "stderr",
     "output_type": "stream",
     "text": [
      "WARNING:absl:You are saving your model as an HDF5 file via `model.save()` or `keras.saving.save_model(model)`. This file format is considered legacy. We recommend using instead the native Keras format, e.g. `model.save('my_model.keras')` or `keras.saving.save_model(model, 'my_model.keras')`. \n"
     ]
    }
   ],
   "source": [
    "model.save(\"../Models/basic_cnn_model.h5\")"
   ]
  }
 ],
 "metadata": {
  "kernelspec": {
   "display_name": "Python 3",
   "language": "python",
   "name": "python3"
  },
  "language_info": {
   "codemirror_mode": {
    "name": "ipython",
    "version": 3
   },
   "file_extension": ".py",
   "mimetype": "text/x-python",
   "name": "python",
   "nbconvert_exporter": "python",
   "pygments_lexer": "ipython3",
   "version": "3.11.4"
  }
 },
 "nbformat": 4,
 "nbformat_minor": 2
}
