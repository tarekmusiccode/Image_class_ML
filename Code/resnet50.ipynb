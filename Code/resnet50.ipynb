{
 "cells": [
  {
   "cell_type": "code",
   "execution_count": 1,
   "metadata": {},
   "outputs": [],
   "source": [
    "import os\n",
    "import cv2\n",
    "import matplotlib.pyplot as plt\n",
    "import numpy as np\n",
    "import tensorflow as tf\n",
    "import random\n",
    "from sklearn.model_selection import train_test_split\n",
    "from sklearn.preprocessing import OneHotEncoder\n",
    "from sklearn.metrics import accuracy_score, confusion_matrix, f1_score, precision_recall_curve, precision_score, classification_report\n",
    "from tensorflow import keras\n",
    "from keras.models import Sequential\n",
    "from keras import layers\n",
    "from keras.layers import Conv2D, MaxPooling2D, Dense, Flatten,Input,Reshape,GlobalAveragePooling2D\n",
    "from keras.utils import to_categorical\n",
    "from keras.optimizers import RMSprop\n",
    "from tqdm import tqdm\n",
    "from keras.layers import GlobalAveragePooling2D, Dropout, BatchNormalization\n",
    "from keras.applications import VGG16\n",
    "from keras.callbacks import Callback\n",
    "from keras.applications import ResNet50\n",
    "from tensorflow.keras.models import Model"
   ]
  },
  {
   "cell_type": "code",
   "execution_count": 2,
   "metadata": {},
   "outputs": [
    {
     "name": "stderr",
     "output_type": "stream",
     "text": [
      "train data ABBOTTS BABBLER --->: 100%|██████████| 163/163 [00:00<00:00, 443.51it/s]\n",
      "test data ABBOTTS BABBLER --->: 100%|██████████| 5/5 [00:00<00:00, 101.53it/s]\n",
      "val data ABBOTTS BABBLER --->: 100%|██████████| 5/5 [00:00<00:00, 301.99it/s]\n",
      "train data ABBOTTS BOOBY --->: 100%|██████████| 180/180 [00:00<00:00, 570.09it/s]\n",
      "test data ABBOTTS BOOBY --->: 100%|██████████| 5/5 [00:00<00:00, 116.41it/s]\n",
      "val data ABBOTTS BOOBY --->: 100%|██████████| 5/5 [00:00<00:00, 971.26it/s]\n",
      "train data ABYSSINIAN GROUND HORNBILL --->: 100%|██████████| 179/179 [00:00<00:00, 640.49it/s]\n",
      "test data ABYSSINIAN GROUND HORNBILL --->: 100%|██████████| 5/5 [00:00<00:00, 1223.19it/s]\n",
      "val data ABYSSINIAN GROUND HORNBILL --->: 100%|██████████| 5/5 [00:00<?, ?it/s]\n",
      "train data AFRICAN CROWNED CRANE --->: 100%|██████████| 135/135 [00:00<00:00, 667.77it/s]\n",
      "test data AFRICAN CROWNED CRANE --->: 100%|██████████| 5/5 [00:00<00:00, 322.03it/s]\n",
      "val data AFRICAN CROWNED CRANE --->: 100%|██████████| 5/5 [00:00<?, ?it/s]\n",
      "train data AFRICAN EMERALD CUCKOO --->: 100%|██████████| 154/154 [00:00<00:00, 711.18it/s]\n",
      "test data AFRICAN EMERALD CUCKOO --->: 100%|██████████| 5/5 [00:00<00:00, 280.57it/s]\n",
      "val data AFRICAN EMERALD CUCKOO --->: 100%|██████████| 5/5 [00:00<?, ?it/s]\n",
      "train data AFRICAN FIREFINCH --->: 100%|██████████| 137/137 [00:00<00:00, 632.22it/s]\n",
      "test data AFRICAN FIREFINCH --->: 100%|██████████| 5/5 [00:00<00:00, 303.88it/s]\n",
      "val data AFRICAN FIREFINCH --->: 100%|██████████| 5/5 [00:00<00:00, 311.48it/s]\n",
      "train data AFRICAN OYSTER CATCHER --->: 100%|██████████| 155/155 [00:00<00:00, 717.13it/s]\n",
      "test data AFRICAN OYSTER CATCHER --->: 100%|██████████| 5/5 [00:00<00:00, 304.32it/s]\n",
      "val data AFRICAN OYSTER CATCHER --->: 100%|██████████| 5/5 [00:00<?, ?it/s]\n",
      "train data AFRICAN PIED HORNBILL --->: 100%|██████████| 187/187 [00:00<00:00, 591.09it/s]\n",
      "test data AFRICAN PIED HORNBILL --->: 100%|██████████| 5/5 [00:00<00:00, 300.74it/s]\n",
      "val data AFRICAN PIED HORNBILL --->: 100%|██████████| 5/5 [00:00<?, ?it/s]\n",
      "train data AFRICAN PYGMY GOOSE --->: 100%|██████████| 179/179 [00:00<00:00, 510.74it/s]\n",
      "test data AFRICAN PYGMY GOOSE --->: 100%|██████████| 5/5 [00:00<00:00, 260.67it/s]\n",
      "val data AFRICAN PYGMY GOOSE --->: 100%|██████████| 5/5 [00:00<00:00, 465.66it/s]\n",
      "train data ALBATROSS --->: 100%|██████████| 132/132 [00:00<00:00, 675.05it/s]\n",
      "test data ALBATROSS --->: 100%|██████████| 5/5 [00:00<00:00, 306.31it/s]\n",
      "val data ALBATROSS --->: 100%|██████████| 5/5 [00:00<?, ?it/s]\n",
      "train data ALBERTS TOWHEE --->: 100%|██████████| 161/161 [00:00<00:00, 645.01it/s]\n",
      "test data ALBERTS TOWHEE --->: 100%|██████████| 5/5 [00:00<?, ?it/s]\n",
      "val data ALBERTS TOWHEE --->: 100%|██████████| 5/5 [00:00<00:00, 299.80it/s]\n",
      "train data ALEXANDRINE PARAKEET --->: 100%|██████████| 165/165 [00:00<00:00, 618.19it/s]\n",
      "test data ALEXANDRINE PARAKEET --->: 100%|██████████| 5/5 [00:00<00:00, 621.69it/s]\n",
      "val data ALEXANDRINE PARAKEET --->: 100%|██████████| 5/5 [00:00<00:00, 693.39it/s]\n",
      "train data ALPINE CHOUGH --->: 100%|██████████| 166/166 [00:00<00:00, 679.27it/s]\n",
      "test data ALPINE CHOUGH --->: 100%|██████████| 5/5 [00:00<?, ?it/s]\n",
      "val data ALPINE CHOUGH --->: 100%|██████████| 5/5 [00:00<?, ?it/s]\n",
      "train data ALTAMIRA YELLOWTHROAT --->: 100%|██████████| 150/150 [00:00<00:00, 600.05it/s]\n",
      "test data ALTAMIRA YELLOWTHROAT --->: 100%|██████████| 5/5 [00:00<00:00, 157.55it/s]\n",
      "val data ALTAMIRA YELLOWTHROAT --->: 100%|██████████| 5/5 [00:00<?, ?it/s]\n",
      "train data AMERICAN AVOCET --->: 100%|██████████| 179/179 [00:00<00:00, 502.64it/s]\n",
      "test data AMERICAN AVOCET --->: 100%|██████████| 5/5 [00:00<00:00, 320.05it/s]\n",
      "val data AMERICAN AVOCET --->: 100%|██████████| 5/5 [00:00<00:00, 160.47it/s]\n",
      "train data AMERICAN BITTERN --->: 100%|██████████| 170/170 [00:00<00:00, 462.59it/s]\n",
      "test data AMERICAN BITTERN --->: 100%|██████████| 5/5 [00:00<00:00, 320.25it/s]\n",
      "val data AMERICAN BITTERN --->: 100%|██████████| 5/5 [00:00<00:00, 319.91it/s]\n"
     ]
    }
   ],
   "source": [
    "img_size = 200\n",
    "\n",
    "data_path = \"../Data\"\n",
    "\n",
    "datas = os.listdir(os.path.join(data_path, \"train\"))\n",
    "images_train = []\n",
    "images_test = []\n",
    "images_val = []\n",
    "\n",
    "class_num = -1\n",
    "for data in datas:\n",
    "    class_num += 1\n",
    "    for img in tqdm(os.listdir(os.path.join(data_path, \"train\", data)), desc=f\"train data {data} --->\"):\n",
    "        img_np = cv2.resize(cv2.imread(os.path.join(os.path.join(data_path, \"train\", data), img), cv2.COLOR_BGR2RGB).astype(np.float32) / 255., (img_size, img_size))\n",
    "        images_train.append(\n",
    "            {\n",
    "                \"Image\": img_np,\n",
    "                \"Class\": class_num,\n",
    "                class_num: data\n",
    "            })\n",
    "    for img in tqdm(os.listdir(os.path.join(data_path, \"test\", data)), desc=f\"test data {data} --->\"):\n",
    "        img_np = cv2.resize(cv2.imread(os.path.join(os.path.join(data_path, \"test\", data), img), cv2.COLOR_BGR2RGB).astype(np.float32) / 255., (img_size, img_size))\n",
    "        images_test.append(\n",
    "            {\n",
    "                \"Image\": img_np,\n",
    "                \"Class\": class_num,\n",
    "                class_num: data\n",
    "            })\n",
    "    for img in tqdm(os.listdir(os.path.join(data_path, \"valid\", data)), desc=f\"val data {data} --->\"):\n",
    "        img_np = cv2.resize(cv2.imread(os.path.join(os.path.join(data_path, \"valid\", data), img), cv2.COLOR_BGR2RGB).astype(np.float32) / 255., (img_size, img_size))\n",
    "        images_val.append(\n",
    "            {\n",
    "                \"Image\": img_np,\n",
    "                \"Class\": class_num,\n",
    "                class_num: data\n",
    "            })\n",
    "    if class_num == 15:\n",
    "        class_num += 1\n",
    "        break"
   ]
  },
  {
   "cell_type": "code",
   "execution_count": 3,
   "metadata": {},
   "outputs": [],
   "source": [
    "X_train = []\n",
    "y_train = []\n",
    "for data in images_train:\n",
    "    X_train.append(data[\"Image\"])\n",
    "    y_train.append(data[\"Class\"])\n",
    "X_test = []\n",
    "y_test = []\n",
    "for data in images_test:\n",
    "    X_test.append(data[\"Image\"])\n",
    "    y_test.append(data[\"Class\"])\n",
    "X_val = []\n",
    "y_val = []\n",
    "for data in images_val:\n",
    "    X_val.append(data[\"Image\"])\n",
    "    y_val.append(data[\"Class\"])\n",
    "\n",
    "\n",
    "X_train = np.array(X_train).reshape(-1, img_size, img_size, 3)\n",
    "y_train = np.array(y_train)\n",
    "X_test = np.array(X_test).reshape(-1, img_size, img_size, 3)\n",
    "y_test = np.array(y_test)\n",
    "X_val = np.array(X_val).reshape(-1, img_size, img_size, 3)\n",
    "y_val = np.array(y_val)"
   ]
  },
  {
   "cell_type": "code",
   "execution_count": 4,
   "metadata": {},
   "outputs": [],
   "source": [
    "y_train_encoded = to_categorical(y_train, num_classes=class_num)\n",
    "y_test_encoded = to_categorical(y_test, num_classes=class_num)\n",
    "y_val_encoded = to_categorical(y_test, num_classes=class_num)"
   ]
  },
  {
   "cell_type": "code",
   "execution_count": 5,
   "metadata": {},
   "outputs": [
    {
     "name": "stdout",
     "output_type": "stream",
     "text": [
      "(2592, 200, 200, 3)\n",
      "(2592,)\n",
      "(2592, 16)\n",
      "(80, 200, 200, 3)\n",
      "(80,)\n",
      "(80, 16)\n",
      "(80, 200, 200, 3)\n",
      "(80,)\n",
      "(80, 16)\n"
     ]
    }
   ],
   "source": [
    "print(X_train.shape)\n",
    "print(y_train.shape)\n",
    "print(y_train_encoded.shape)\n",
    "print(X_test.shape)\n",
    "print(y_test.shape)\n",
    "print(y_test_encoded.shape)\n",
    "print(X_val.shape)\n",
    "print(y_val.shape)\n",
    "print(y_val_encoded.shape)"
   ]
  },
  {
   "cell_type": "code",
   "execution_count": 6,
   "metadata": {},
   "outputs": [
    {
     "data": {
      "text/html": [
       "<pre style=\"white-space:pre;overflow-x:auto;line-height:normal;font-family:Menlo,'DejaVu Sans Mono',consolas,'Courier New',monospace\"><span style=\"font-weight: bold\">Model: \"sequential\"</span>\n",
       "</pre>\n"
      ],
      "text/plain": [
       "\u001b[1mModel: \"sequential\"\u001b[0m\n"
      ]
     },
     "metadata": {},
     "output_type": "display_data"
    },
    {
     "data": {
      "text/html": [
       "<pre style=\"white-space:pre;overflow-x:auto;line-height:normal;font-family:Menlo,'DejaVu Sans Mono',consolas,'Courier New',monospace\">┏━━━━━━━━━━━━━━━━━━━━━━━━━━━━━━━━━┳━━━━━━━━━━━━━━━━━━━━━━━━┳━━━━━━━━━━━━━━━┓\n",
       "┃<span style=\"font-weight: bold\"> Layer (type)                    </span>┃<span style=\"font-weight: bold\"> Output Shape           </span>┃<span style=\"font-weight: bold\">       Param # </span>┃\n",
       "┡━━━━━━━━━━━━━━━━━━━━━━━━━━━━━━━━━╇━━━━━━━━━━━━━━━━━━━━━━━━╇━━━━━━━━━━━━━━━┩\n",
       "│ resnet50 (<span style=\"color: #0087ff; text-decoration-color: #0087ff\">Functional</span>)           │ (<span style=\"color: #00d7ff; text-decoration-color: #00d7ff\">None</span>, <span style=\"color: #00af00; text-decoration-color: #00af00\">2048</span>)           │    <span style=\"color: #00af00; text-decoration-color: #00af00\">23,587,712</span> │\n",
       "├─────────────────────────────────┼────────────────────────┼───────────────┤\n",
       "│ flatten (<span style=\"color: #0087ff; text-decoration-color: #0087ff\">Flatten</span>)               │ (<span style=\"color: #00d7ff; text-decoration-color: #00d7ff\">None</span>, <span style=\"color: #00af00; text-decoration-color: #00af00\">2048</span>)           │             <span style=\"color: #00af00; text-decoration-color: #00af00\">0</span> │\n",
       "├─────────────────────────────────┼────────────────────────┼───────────────┤\n",
       "│ dense (<span style=\"color: #0087ff; text-decoration-color: #0087ff\">Dense</span>)                   │ (<span style=\"color: #00d7ff; text-decoration-color: #00d7ff\">None</span>, <span style=\"color: #00af00; text-decoration-color: #00af00\">256</span>)            │       <span style=\"color: #00af00; text-decoration-color: #00af00\">524,544</span> │\n",
       "├─────────────────────────────────┼────────────────────────┼───────────────┤\n",
       "│ dense_1 (<span style=\"color: #0087ff; text-decoration-color: #0087ff\">Dense</span>)                 │ (<span style=\"color: #00d7ff; text-decoration-color: #00d7ff\">None</span>, <span style=\"color: #00af00; text-decoration-color: #00af00\">128</span>)            │        <span style=\"color: #00af00; text-decoration-color: #00af00\">32,896</span> │\n",
       "├─────────────────────────────────┼────────────────────────┼───────────────┤\n",
       "│ dense_2 (<span style=\"color: #0087ff; text-decoration-color: #0087ff\">Dense</span>)                 │ (<span style=\"color: #00d7ff; text-decoration-color: #00d7ff\">None</span>, <span style=\"color: #00af00; text-decoration-color: #00af00\">64</span>)             │         <span style=\"color: #00af00; text-decoration-color: #00af00\">8,256</span> │\n",
       "├─────────────────────────────────┼────────────────────────┼───────────────┤\n",
       "│ dense_3 (<span style=\"color: #0087ff; text-decoration-color: #0087ff\">Dense</span>)                 │ (<span style=\"color: #00d7ff; text-decoration-color: #00d7ff\">None</span>, <span style=\"color: #00af00; text-decoration-color: #00af00\">32</span>)             │         <span style=\"color: #00af00; text-decoration-color: #00af00\">2,080</span> │\n",
       "├─────────────────────────────────┼────────────────────────┼───────────────┤\n",
       "│ dense_4 (<span style=\"color: #0087ff; text-decoration-color: #0087ff\">Dense</span>)                 │ (<span style=\"color: #00d7ff; text-decoration-color: #00d7ff\">None</span>, <span style=\"color: #00af00; text-decoration-color: #00af00\">16</span>)             │           <span style=\"color: #00af00; text-decoration-color: #00af00\">528</span> │\n",
       "├─────────────────────────────────┼────────────────────────┼───────────────┤\n",
       "│ dense_5 (<span style=\"color: #0087ff; text-decoration-color: #0087ff\">Dense</span>)                 │ (<span style=\"color: #00d7ff; text-decoration-color: #00d7ff\">None</span>, <span style=\"color: #00af00; text-decoration-color: #00af00\">16</span>)             │           <span style=\"color: #00af00; text-decoration-color: #00af00\">272</span> │\n",
       "└─────────────────────────────────┴────────────────────────┴───────────────┘\n",
       "</pre>\n"
      ],
      "text/plain": [
       "┏━━━━━━━━━━━━━━━━━━━━━━━━━━━━━━━━━┳━━━━━━━━━━━━━━━━━━━━━━━━┳━━━━━━━━━━━━━━━┓\n",
       "┃\u001b[1m \u001b[0m\u001b[1mLayer (type)                   \u001b[0m\u001b[1m \u001b[0m┃\u001b[1m \u001b[0m\u001b[1mOutput Shape          \u001b[0m\u001b[1m \u001b[0m┃\u001b[1m \u001b[0m\u001b[1m      Param #\u001b[0m\u001b[1m \u001b[0m┃\n",
       "┡━━━━━━━━━━━━━━━━━━━━━━━━━━━━━━━━━╇━━━━━━━━━━━━━━━━━━━━━━━━╇━━━━━━━━━━━━━━━┩\n",
       "│ resnet50 (\u001b[38;5;33mFunctional\u001b[0m)           │ (\u001b[38;5;45mNone\u001b[0m, \u001b[38;5;34m2048\u001b[0m)           │    \u001b[38;5;34m23,587,712\u001b[0m │\n",
       "├─────────────────────────────────┼────────────────────────┼───────────────┤\n",
       "│ flatten (\u001b[38;5;33mFlatten\u001b[0m)               │ (\u001b[38;5;45mNone\u001b[0m, \u001b[38;5;34m2048\u001b[0m)           │             \u001b[38;5;34m0\u001b[0m │\n",
       "├─────────────────────────────────┼────────────────────────┼───────────────┤\n",
       "│ dense (\u001b[38;5;33mDense\u001b[0m)                   │ (\u001b[38;5;45mNone\u001b[0m, \u001b[38;5;34m256\u001b[0m)            │       \u001b[38;5;34m524,544\u001b[0m │\n",
       "├─────────────────────────────────┼────────────────────────┼───────────────┤\n",
       "│ dense_1 (\u001b[38;5;33mDense\u001b[0m)                 │ (\u001b[38;5;45mNone\u001b[0m, \u001b[38;5;34m128\u001b[0m)            │        \u001b[38;5;34m32,896\u001b[0m │\n",
       "├─────────────────────────────────┼────────────────────────┼───────────────┤\n",
       "│ dense_2 (\u001b[38;5;33mDense\u001b[0m)                 │ (\u001b[38;5;45mNone\u001b[0m, \u001b[38;5;34m64\u001b[0m)             │         \u001b[38;5;34m8,256\u001b[0m │\n",
       "├─────────────────────────────────┼────────────────────────┼───────────────┤\n",
       "│ dense_3 (\u001b[38;5;33mDense\u001b[0m)                 │ (\u001b[38;5;45mNone\u001b[0m, \u001b[38;5;34m32\u001b[0m)             │         \u001b[38;5;34m2,080\u001b[0m │\n",
       "├─────────────────────────────────┼────────────────────────┼───────────────┤\n",
       "│ dense_4 (\u001b[38;5;33mDense\u001b[0m)                 │ (\u001b[38;5;45mNone\u001b[0m, \u001b[38;5;34m16\u001b[0m)             │           \u001b[38;5;34m528\u001b[0m │\n",
       "├─────────────────────────────────┼────────────────────────┼───────────────┤\n",
       "│ dense_5 (\u001b[38;5;33mDense\u001b[0m)                 │ (\u001b[38;5;45mNone\u001b[0m, \u001b[38;5;34m16\u001b[0m)             │           \u001b[38;5;34m272\u001b[0m │\n",
       "└─────────────────────────────────┴────────────────────────┴───────────────┘\n"
      ]
     },
     "metadata": {},
     "output_type": "display_data"
    },
    {
     "data": {
      "text/html": [
       "<pre style=\"white-space:pre;overflow-x:auto;line-height:normal;font-family:Menlo,'DejaVu Sans Mono',consolas,'Courier New',monospace\"><span style=\"font-weight: bold\"> Total params: </span><span style=\"color: #00af00; text-decoration-color: #00af00\">24,156,288</span> (92.15 MB)\n",
       "</pre>\n"
      ],
      "text/plain": [
       "\u001b[1m Total params: \u001b[0m\u001b[38;5;34m24,156,288\u001b[0m (92.15 MB)\n"
      ]
     },
     "metadata": {},
     "output_type": "display_data"
    },
    {
     "data": {
      "text/html": [
       "<pre style=\"white-space:pre;overflow-x:auto;line-height:normal;font-family:Menlo,'DejaVu Sans Mono',consolas,'Courier New',monospace\"><span style=\"font-weight: bold\"> Trainable params: </span><span style=\"color: #00af00; text-decoration-color: #00af00\">10,558,720</span> (40.28 MB)\n",
       "</pre>\n"
      ],
      "text/plain": [
       "\u001b[1m Trainable params: \u001b[0m\u001b[38;5;34m10,558,720\u001b[0m (40.28 MB)\n"
      ]
     },
     "metadata": {},
     "output_type": "display_data"
    },
    {
     "data": {
      "text/html": [
       "<pre style=\"white-space:pre;overflow-x:auto;line-height:normal;font-family:Menlo,'DejaVu Sans Mono',consolas,'Courier New',monospace\"><span style=\"font-weight: bold\"> Non-trainable params: </span><span style=\"color: #00af00; text-decoration-color: #00af00\">13,597,568</span> (51.87 MB)\n",
       "</pre>\n"
      ],
      "text/plain": [
       "\u001b[1m Non-trainable params: \u001b[0m\u001b[38;5;34m13,597,568\u001b[0m (51.87 MB)\n"
      ]
     },
     "metadata": {},
     "output_type": "display_data"
    }
   ],
   "source": [
    "# Rebuild the ResNet50 model with correct input shape\n",
    "pretrained_model = tf.keras.applications.ResNet50(include_top=False,\n",
    "                                                input_shape=(img_size, img_size, 3),\n",
    "                                                pooling='avg',\n",
    "                                                weights='imagenet')\n",
    "\n",
    "i = 0\n",
    "for layer in pretrained_model.layers:\n",
    "    if i < 150: layer.trainable = False\n",
    "    else: layer.trainable = True\n",
    "    i += 1\n",
    "\n",
    "resnet_model = Sequential()\n",
    "\n",
    "resnet_model.add(pretrained_model)\n",
    "resnet_model.add(Flatten())\n",
    "\n",
    "\n",
    "resnet_model.add(Dense(256, activation='relu'))\n",
    "resnet_model.add(Dense(128, activation='relu'))\n",
    "resnet_model.add(Dense(64, activation='relu'))\n",
    "resnet_model.add(Dense(32, activation='relu'))\n",
    "resnet_model.add(Dense(16, activation='relu'))\n",
    "resnet_model.add(Dense(class_num, activation='softmax'))\n",
    "\n",
    "resnet_model.build((None, img_size, img_size, 3))\n",
    "\n",
    "# Compile the model\n",
    "resnet_model.compile(optimizer=\"adam\", loss='categorical_crossentropy', metrics=['accuracy', 'precision', 'recall'])\n",
    "\n",
    "# Print model summary\n",
    "resnet_model.summary()"
   ]
  },
  {
   "cell_type": "code",
   "execution_count": 7,
   "metadata": {},
   "outputs": [
    {
     "name": "stdout",
     "output_type": "stream",
     "text": [
      "Epoch 1/10\n",
      "\u001b[1m21/21\u001b[0m \u001b[32m━━━━━━━━━━━━━━━━━━━━\u001b[0m\u001b[37m\u001b[0m \u001b[1m181s\u001b[0m 8s/step - accuracy: 0.0627 - loss: 2.7823 - precision: 0.0000e+00 - recall: 0.0000e+00 - val_accuracy: 0.1375 - val_loss: 3.1552 - val_precision: 0.0000e+00 - val_recall: 0.0000e+00\n",
      "Epoch 2/10\n",
      "\u001b[1m21/21\u001b[0m \u001b[32m━━━━━━━━━━━━━━━━━━━━\u001b[0m\u001b[37m\u001b[0m \u001b[1m164s\u001b[0m 8s/step - accuracy: 0.1100 - loss: 2.7243 - precision: 0.0000e+00 - recall: 0.0000e+00 - val_accuracy: 0.0625 - val_loss: 47.6580 - val_precision: 0.0625 - val_recall: 0.0625\n",
      "Epoch 3/10\n",
      "\u001b[1m21/21\u001b[0m \u001b[32m━━━━━━━━━━━━━━━━━━━━\u001b[0m\u001b[37m\u001b[0m \u001b[1m171s\u001b[0m 8s/step - accuracy: 0.1512 - loss: 2.5935 - precision: 0.8447 - recall: 0.0189 - val_accuracy: 0.0750 - val_loss: 81.4703 - val_precision: 0.0750 - val_recall: 0.0750\n",
      "Epoch 4/10\n",
      "\u001b[1m21/21\u001b[0m \u001b[32m━━━━━━━━━━━━━━━━━━━━\u001b[0m\u001b[37m\u001b[0m \u001b[1m167s\u001b[0m 8s/step - accuracy: 0.1613 - loss: 2.5061 - precision: 0.7363 - recall: 0.0311 - val_accuracy: 0.1375 - val_loss: 53.4826 - val_precision: 0.1375 - val_recall: 0.1375\n",
      "Epoch 5/10\n",
      "\u001b[1m21/21\u001b[0m \u001b[32m━━━━━━━━━━━━━━━━━━━━\u001b[0m\u001b[37m\u001b[0m \u001b[1m165s\u001b[0m 8s/step - accuracy: 0.1772 - loss: 2.3904 - precision: 0.8341 - recall: 0.0549 - val_accuracy: 0.0875 - val_loss: 67.2158 - val_precision: 0.0875 - val_recall: 0.0875\n",
      "Epoch 6/10\n",
      "\u001b[1m21/21\u001b[0m \u001b[32m━━━━━━━━━━━━━━━━━━━━\u001b[0m\u001b[37m\u001b[0m \u001b[1m161s\u001b[0m 8s/step - accuracy: 0.2326 - loss: 2.3129 - precision: 0.8335 - recall: 0.0550 - val_accuracy: 0.1750 - val_loss: 25.0428 - val_precision: 0.1772 - val_recall: 0.1750\n",
      "Epoch 7/10\n",
      "\u001b[1m21/21\u001b[0m \u001b[32m━━━━━━━━━━━━━━━━━━━━\u001b[0m\u001b[37m\u001b[0m \u001b[1m161s\u001b[0m 8s/step - accuracy: 0.2600 - loss: 2.2010 - precision: 0.7819 - recall: 0.0788 - val_accuracy: 0.0625 - val_loss: 45.5865 - val_precision: 0.0625 - val_recall: 0.0625\n",
      "Epoch 8/10\n",
      "\u001b[1m21/21\u001b[0m \u001b[32m━━━━━━━━━━━━━━━━━━━━\u001b[0m\u001b[37m\u001b[0m \u001b[1m162s\u001b[0m 8s/step - accuracy: 0.2903 - loss: 2.1033 - precision: 0.8237 - recall: 0.1050 - val_accuracy: 0.0875 - val_loss: 46.2377 - val_precision: 0.0875 - val_recall: 0.0875\n",
      "Epoch 9/10\n",
      "\u001b[1m21/21\u001b[0m \u001b[32m━━━━━━━━━━━━━━━━━━━━\u001b[0m\u001b[37m\u001b[0m \u001b[1m162s\u001b[0m 8s/step - accuracy: 0.3233 - loss: 2.0151 - precision: 0.8790 - recall: 0.0920 - val_accuracy: 0.2000 - val_loss: 12.4452 - val_precision: 0.2078 - val_recall: 0.2000\n",
      "Epoch 10/10\n",
      "\u001b[1m21/21\u001b[0m \u001b[32m━━━━━━━━━━━━━━━━━━━━\u001b[0m\u001b[37m\u001b[0m \u001b[1m162s\u001b[0m 8s/step - accuracy: 0.3229 - loss: 1.9555 - precision: 0.8038 - recall: 0.1353 - val_accuracy: 0.0875 - val_loss: 16.8737 - val_precision: 0.0886 - val_recall: 0.0875\n"
     ]
    }
   ],
   "source": [
    "model_history = resnet_model.fit(X_train, y_train_encoded, batch_size=128, epochs=10, validation_data=(X_val, y_val_encoded))"
   ]
  },
  {
   "cell_type": "code",
   "execution_count": 14,
   "metadata": {},
   "outputs": [
    {
     "name": "stdout",
     "output_type": "stream",
     "text": [
      "\u001b[1m3/3\u001b[0m \u001b[32m━━━━━━━━━━━━━━━━━━━━\u001b[0m\u001b[37m\u001b[0m \u001b[1m4s\u001b[0m 1s/step\n"
     ]
    }
   ],
   "source": [
    "prediction = resnet_model.predict(X_test)"
   ]
  },
  {
   "cell_type": "code",
   "execution_count": 15,
   "metadata": {},
   "outputs": [],
   "source": [
    "pred = np.argmax(prediction, axis=1)"
   ]
  },
  {
   "cell_type": "code",
   "execution_count": 16,
   "metadata": {},
   "outputs": [
    {
     "name": "stdout",
     "output_type": "stream",
     "text": [
      "Accuracy: 0.15\n"
     ]
    }
   ],
   "source": [
    "accuracy = accuracy_score(y_test, pred)\n",
    "print(\"Accuracy:\", accuracy)"
   ]
  },
  {
   "cell_type": "code",
   "execution_count": 17,
   "metadata": {},
   "outputs": [
    {
     "name": "stdout",
     "output_type": "stream",
     "text": [
      "              precision    recall  f1-score   support\n",
      "\n",
      "           0       0.00      0.00      0.00         5\n",
      "           1       0.00      0.00      0.00         5\n",
      "           2       0.67      0.40      0.50         5\n",
      "           3       0.00      0.00      0.00         5\n",
      "           4       0.00      0.00      0.00         5\n",
      "           5       0.00      0.00      0.00         5\n",
      "           6       0.11      0.80      0.20         5\n",
      "           7       0.00      0.00      0.00         5\n",
      "           8       0.10      0.60      0.18         5\n",
      "           9       0.00      0.00      0.00         5\n",
      "          10       0.10      0.20      0.13         5\n",
      "          11       0.00      0.00      0.00         5\n",
      "          12       0.00      0.00      0.00         5\n",
      "          13       0.00      0.00      0.00         5\n",
      "          14       0.00      0.00      0.00         5\n",
      "          15       1.00      0.40      0.57         5\n",
      "\n",
      "    accuracy                           0.15        80\n",
      "   macro avg       0.12      0.15      0.10        80\n",
      "weighted avg       0.12      0.15      0.10        80\n",
      "\n"
     ]
    },
    {
     "name": "stderr",
     "output_type": "stream",
     "text": [
      "C:\\Users\\PC-ORBIT\\AppData\\Roaming\\Python\\Python311\\site-packages\\sklearn\\metrics\\_classification.py:1509: UndefinedMetricWarning: Precision is ill-defined and being set to 0.0 in labels with no predicted samples. Use `zero_division` parameter to control this behavior.\n",
      "  _warn_prf(average, modifier, f\"{metric.capitalize()} is\", len(result))\n",
      "C:\\Users\\PC-ORBIT\\AppData\\Roaming\\Python\\Python311\\site-packages\\sklearn\\metrics\\_classification.py:1509: UndefinedMetricWarning: Precision is ill-defined and being set to 0.0 in labels with no predicted samples. Use `zero_division` parameter to control this behavior.\n",
      "  _warn_prf(average, modifier, f\"{metric.capitalize()} is\", len(result))\n",
      "C:\\Users\\PC-ORBIT\\AppData\\Roaming\\Python\\Python311\\site-packages\\sklearn\\metrics\\_classification.py:1509: UndefinedMetricWarning: Precision is ill-defined and being set to 0.0 in labels with no predicted samples. Use `zero_division` parameter to control this behavior.\n",
      "  _warn_prf(average, modifier, f\"{metric.capitalize()} is\", len(result))\n"
     ]
    }
   ],
   "source": [
    "report = classification_report(y_test, pred)\n",
    "print(report)"
   ]
  },
  {
   "cell_type": "code",
   "execution_count": 18,
   "metadata": {},
   "outputs": [
    {
     "data": {
      "image/png": "[encoded data removed]",
      "text/plain": [
       "<Figure size 640x480 with 1 Axes>"
      ]
     },
     "metadata": {},
     "output_type": "display_data"
    }
   ],
   "source": [
    "fig = plt.figure()\n",
    "plt.plot(model_history.history[\"val_loss\"], color='red', label=\"val_loss\")\n",
    "plt.plot(model_history.history[\"val_accuracy\"], color='orange', label=\"val_accuracy\")\n",
    "plt.plot(model_history.history[\"val_precision\"], color='purple', label=\"val_precision\")\n",
    "plt.plot(model_history.history[\"val_recall\"], color='black', label=\"val_recall\")\n",
    "plt.plot(model_history.history[\"precision\"], color='blue', label=\"precision\")\n",
    "plt.plot(model_history.history[\"accuracy\"], color='green', label=\"accuracy\")\n",
    "plt.plot(model_history.history[\"recall\"], color='yellow', label=\"recall\")\n",
    "fig.suptitle(\"History\", fontsize=20)\n",
    "plt.legend(loc=\"upper left\")\n",
    "plt.show()"
   ]
  },
  {
   "cell_type": "code",
   "execution_count": 19,
   "metadata": {},
   "outputs": [
    {
     "name": "stderr",
     "output_type": "stream",
     "text": [
      "WARNING:absl:You are saving your model as an HDF5 file via `model.save()` or `keras.saving.save_model(model)`. This file format is considered legacy. We recommend using instead the native Keras format, e.g. `model.save('my_model.keras')` or `keras.saving.save_model(model, 'my_model.keras')`. \n"
     ]
    }
   ],
   "source": [
    "resnet_model.save(\"../Models/resnet50.h5\")"
   ]
  }
 ],
 "metadata": {
  "kernelspec": {
   "display_name": "Python 3",
   "language": "python",
   "name": "python3"
  },
  "language_info": {
   "codemirror_mode": {
    "name": "ipython",
    "version": 3
   },
   "file_extension": ".py",
   "mimetype": "text/x-python",
   "name": "python",
   "nbconvert_exporter": "python",
   "pygments_lexer": "ipython3",
   "version": "3.11.4"
  }
 },
 "nbformat": 4,
 "nbformat_minor": 2
}
