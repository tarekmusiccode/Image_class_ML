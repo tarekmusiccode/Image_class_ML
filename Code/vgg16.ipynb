{
 "cells": [
  {
   "cell_type": "code",
   "execution_count": 1,
   "metadata": {},
   "outputs": [],
   "source": [
    "import matplotlib.pyplot as plt\n",
    "import numpy as np\n",
    "import tensorflow as tf\n",
    "from sklearn.model_selection import train_test_split\n",
    "from sklearn.preprocessing import OneHotEncoder\n",
    "from sklearn.metrics import accuracy_score, confusion_matrix, f1_score, precision_recall_curve, precision_score, classification_report\n",
    "from tensorflow import keras\n",
    "from keras.models import Sequential\n",
    "from keras.layers import Conv2D, MaxPooling2D, Dense, Flatten\n",
    "from keras.utils import to_categorical\n",
    "from tensorflow.keras.preprocessing.image import ImageDataGenerator, load_img, img_to_array\n",
    "from tensorflow.keras import layers\n",
    "import os\n",
    "import cv2\n",
    "from tqdm import tqdm"
   ]
  },
  {
   "cell_type": "code",
   "execution_count": 2,
   "metadata": {},
   "outputs": [
    {
     "name": "stderr",
     "output_type": "stream",
     "text": [
      "train data ABBOTTS BABBLER --->: 100%|██████████| 163/163 [00:00<00:00, 418.77it/s]\n",
      "test data ABBOTTS BABBLER --->: 100%|██████████| 5/5 [00:00<00:00, 105.71it/s]\n",
      "val data ABBOTTS BABBLER --->: 100%|██████████| 5/5 [00:00<00:00, 146.16it/s]\n",
      "train data ABBOTTS BOOBY --->: 100%|██████████| 180/180 [00:00<00:00, 560.74it/s]\n",
      "test data ABBOTTS BOOBY --->: 100%|██████████| 5/5 [00:00<00:00, 153.22it/s]\n",
      "val data ABBOTTS BOOBY --->: 100%|██████████| 5/5 [00:00<?, ?it/s]\n",
      "train data ABYSSINIAN GROUND HORNBILL --->: 100%|██████████| 179/179 [00:00<00:00, 583.70it/s]\n",
      "test data ABYSSINIAN GROUND HORNBILL --->: 100%|██████████| 5/5 [00:00<00:00, 320.04it/s]\n",
      "val data ABYSSINIAN GROUND HORNBILL --->: 100%|██████████| 5/5 [00:00<00:00, 602.82it/s]\n",
      "train data AFRICAN CROWNED CRANE --->: 100%|██████████| 135/135 [00:00<00:00, 474.67it/s]\n",
      "test data AFRICAN CROWNED CRANE --->: 100%|██████████| 5/5 [00:00<00:00, 319.77it/s]\n",
      "val data AFRICAN CROWNED CRANE --->: 100%|██████████| 5/5 [00:00<?, ?it/s]\n",
      "train data AFRICAN EMERALD CUCKOO --->: 100%|██████████| 154/154 [00:00<00:00, 626.67it/s]\n",
      "test data AFRICAN EMERALD CUCKOO --->: 100%|██████████| 5/5 [00:00<?, ?it/s]\n",
      "val data AFRICAN EMERALD CUCKOO --->: 100%|██████████| 5/5 [00:00<00:00, 250.43it/s]\n",
      "train data AFRICAN FIREFINCH --->: 100%|██████████| 137/137 [00:00<00:00, 544.57it/s]\n",
      "test data AFRICAN FIREFINCH --->: 100%|██████████| 5/5 [00:00<00:00, 901.92it/s]\n",
      "val data AFRICAN FIREFINCH --->: 100%|██████████| 5/5 [00:00<00:00, 237.44it/s]\n",
      "train data AFRICAN OYSTER CATCHER --->: 100%|██████████| 155/155 [00:00<00:00, 541.34it/s]\n",
      "test data AFRICAN OYSTER CATCHER --->: 100%|██████████| 5/5 [00:00<00:00, 555.95it/s]\n",
      "val data AFRICAN OYSTER CATCHER --->: 100%|██████████| 5/5 [00:00<00:00, 625.03it/s]\n",
      "train data AFRICAN PIED HORNBILL --->: 100%|██████████| 187/187 [00:00<00:00, 574.50it/s]\n",
      "test data AFRICAN PIED HORNBILL --->: 100%|██████████| 5/5 [00:00<00:00, 322.75it/s]\n",
      "val data AFRICAN PIED HORNBILL --->: 100%|██████████| 5/5 [00:00<00:00, 1436.50it/s]\n",
      "train data AFRICAN PYGMY GOOSE --->: 100%|██████████| 179/179 [00:00<00:00, 652.38it/s]\n",
      "test data AFRICAN PYGMY GOOSE --->: 100%|██████████| 5/5 [00:00<00:00, 136.05it/s]\n",
      "val data AFRICAN PYGMY GOOSE --->: 100%|██████████| 5/5 [00:00<?, ?it/s]\n",
      "train data ALBATROSS --->: 100%|██████████| 132/132 [00:00<00:00, 572.65it/s]\n",
      "test data ALBATROSS --->: 100%|██████████| 5/5 [00:00<00:00, 410.97it/s]\n",
      "val data ALBATROSS --->: 100%|██████████| 5/5 [00:00<00:00, 542.19it/s]\n",
      "train data ALBERTS TOWHEE --->: 100%|██████████| 161/161 [00:00<00:00, 512.94it/s]\n",
      "test data ALBERTS TOWHEE --->: 100%|██████████| 5/5 [00:00<00:00, 544.46it/s]\n",
      "val data ALBERTS TOWHEE --->: 100%|██████████| 5/5 [00:00<00:00, 8626.71it/s]\n",
      "train data ALEXANDRINE PARAKEET --->: 100%|██████████| 165/165 [00:00<00:00, 647.99it/s]\n",
      "test data ALEXANDRINE PARAKEET --->: 100%|██████████| 5/5 [00:00<00:00, 576.77it/s]\n",
      "val data ALEXANDRINE PARAKEET --->: 100%|██████████| 5/5 [00:00<00:00, 605.15it/s]\n",
      "train data ALPINE CHOUGH --->: 100%|██████████| 166/166 [00:00<00:00, 651.37it/s]\n",
      "test data ALPINE CHOUGH --->: 100%|██████████| 5/5 [00:00<00:00, 640.21it/s]\n",
      "val data ALPINE CHOUGH --->: 100%|██████████| 5/5 [00:00<00:00, 423.80it/s]\n",
      "train data ALTAMIRA YELLOWTHROAT --->: 100%|██████████| 150/150 [00:00<00:00, 425.85it/s]\n",
      "test data ALTAMIRA YELLOWTHROAT --->: 100%|██████████| 5/5 [00:00<00:00, 323.13it/s]\n",
      "val data ALTAMIRA YELLOWTHROAT --->: 100%|██████████| 5/5 [00:00<00:00, 605.85it/s]\n",
      "train data AMERICAN AVOCET --->: 100%|██████████| 179/179 [00:00<00:00, 502.24it/s]\n",
      "test data AMERICAN AVOCET --->: 100%|██████████| 5/5 [00:00<00:00, 526.98it/s]\n",
      "val data AMERICAN AVOCET --->: 100%|██████████| 5/5 [00:00<00:00, 152.01it/s]\n",
      "train data AMERICAN BITTERN --->: 100%|██████████| 170/170 [00:00<00:00, 524.75it/s]\n",
      "test data AMERICAN BITTERN --->: 100%|██████████| 5/5 [00:00<00:00, 320.83it/s]\n",
      "val data AMERICAN BITTERN --->: 100%|██████████| 5/5 [00:00<00:00, 320.01it/s]\n"
     ]
    }
   ],
   "source": [
    "img_size = 200\n",
    "\n",
    "data_path = \"../Data\"\n",
    "\n",
    "datas = os.listdir(os.path.join(data_path, \"train\"))\n",
    "images_train = []\n",
    "images_test = []\n",
    "images_val = []\n",
    "\n",
    "class_num = -1\n",
    "for data in datas:\n",
    "    class_num += 1\n",
    "    for img in tqdm(os.listdir(os.path.join(data_path, \"train\", data)), desc=f\"train data {data} --->\"):\n",
    "        img_np = cv2.resize(cv2.imread(os.path.join(os.path.join(data_path, \"train\", data), img), cv2.COLOR_BGR2RGB).astype(np.float32) / 255., (img_size, img_size))\n",
    "        images_train.append(\n",
    "            {\n",
    "                \"Image\": img_np,\n",
    "                \"Class\": class_num,\n",
    "                class_num: data\n",
    "            })\n",
    "    for img in tqdm(os.listdir(os.path.join(data_path, \"test\", data)), desc=f\"test data {data} --->\"):\n",
    "        img_np = cv2.resize(cv2.imread(os.path.join(os.path.join(data_path, \"test\", data), img), cv2.COLOR_BGR2RGB).astype(np.float32) / 255., (img_size, img_size))\n",
    "        images_test.append(\n",
    "            {\n",
    "                \"Image\": img_np,\n",
    "                \"Class\": class_num,\n",
    "                class_num: data\n",
    "            })\n",
    "    for img in tqdm(os.listdir(os.path.join(data_path, \"valid\", data)), desc=f\"val data {data} --->\"):\n",
    "        img_np = cv2.resize(cv2.imread(os.path.join(os.path.join(data_path, \"valid\", data), img), cv2.COLOR_BGR2RGB).astype(np.float32) / 255., (img_size, img_size))\n",
    "        images_val.append(\n",
    "            {\n",
    "                \"Image\": img_np,\n",
    "                \"Class\": class_num,\n",
    "                class_num: data\n",
    "            })\n",
    "    if class_num == 15:\n",
    "        class_num += 1\n",
    "        break"
   ]
  },
  {
   "cell_type": "code",
   "execution_count": 3,
   "metadata": {},
   "outputs": [],
   "source": [
    "X_train = []\n",
    "y_train = []\n",
    "for data in images_train:\n",
    "    X_train.append(data[\"Image\"])\n",
    "    y_train.append(data[\"Class\"])\n",
    "X_test = []\n",
    "y_test = []\n",
    "for data in images_test:\n",
    "    X_test.append(data[\"Image\"])\n",
    "    y_test.append(data[\"Class\"])\n",
    "X_val = []\n",
    "y_val = []\n",
    "for data in images_val:\n",
    "    X_val.append(data[\"Image\"])\n",
    "    y_val.append(data[\"Class\"])\n",
    "\n",
    "\n",
    "X_train = np.array(X_train).reshape(-1, img_size, img_size, 3)\n",
    "y_train = np.array(y_train)\n",
    "X_test = np.array(X_test).reshape(-1, img_size, img_size, 3)\n",
    "y_test = np.array(y_test)\n",
    "X_val = np.array(X_val).reshape(-1, img_size, img_size, 3)\n",
    "y_val = np.array(y_val)"
   ]
  },
  {
   "cell_type": "code",
   "execution_count": 4,
   "metadata": {},
   "outputs": [],
   "source": [
    "y_train_encoded = to_categorical(y_train, num_classes=class_num)\n",
    "y_test_encoded = to_categorical(y_test, num_classes=class_num)\n",
    "y_val_encoded = to_categorical(y_test, num_classes=class_num)"
   ]
  },
  {
   "cell_type": "code",
   "execution_count": 5,
   "metadata": {},
   "outputs": [
    {
     "name": "stdout",
     "output_type": "stream",
     "text": [
      "(2592, 200, 200, 3)\n",
      "(2592,)\n",
      "(2592, 16)\n",
      "(80, 200, 200, 3)\n",
      "(80,)\n",
      "(80, 16)\n",
      "(80, 200, 200, 3)\n",
      "(80,)\n",
      "(80, 16)\n"
     ]
    }
   ],
   "source": [
    "print(X_train.shape)\n",
    "print(y_train.shape)\n",
    "print(y_train_encoded.shape)\n",
    "print(X_test.shape)\n",
    "print(y_test.shape)\n",
    "print(y_test_encoded.shape)\n",
    "print(X_val.shape)\n",
    "print(y_val.shape)\n",
    "print(y_val_encoded.shape)"
   ]
  },
  {
   "cell_type": "code",
   "execution_count": 23,
   "metadata": {},
   "outputs": [
    {
     "data": {
      "text/html": [
       "<pre style=\"white-space:pre;overflow-x:auto;line-height:normal;font-family:Menlo,'DejaVu Sans Mono',consolas,'Courier New',monospace\"><span style=\"font-weight: bold\">Model: \"sequential_16\"</span>\n",
       "</pre>\n"
      ],
      "text/plain": [
       "\u001b[1mModel: \"sequential_16\"\u001b[0m\n"
      ]
     },
     "metadata": {},
     "output_type": "display_data"
    },
    {
     "data": {
      "text/html": [
       "<pre style=\"white-space:pre;overflow-x:auto;line-height:normal;font-family:Menlo,'DejaVu Sans Mono',consolas,'Courier New',monospace\">┏━━━━━━━━━━━━━━━━━━━━━━━━━━━━━━━━━┳━━━━━━━━━━━━━━━━━━━━━━━━┳━━━━━━━━━━━━━━━┓\n",
       "┃<span style=\"font-weight: bold\"> Layer (type)                    </span>┃<span style=\"font-weight: bold\"> Output Shape           </span>┃<span style=\"font-weight: bold\">       Param # </span>┃\n",
       "┡━━━━━━━━━━━━━━━━━━━━━━━━━━━━━━━━━╇━━━━━━━━━━━━━━━━━━━━━━━━╇━━━━━━━━━━━━━━━┩\n",
       "│ vgg16 (<span style=\"color: #0087ff; text-decoration-color: #0087ff\">Functional</span>)              │ (<span style=\"color: #00d7ff; text-decoration-color: #00d7ff\">None</span>, <span style=\"color: #00af00; text-decoration-color: #00af00\">6</span>, <span style=\"color: #00af00; text-decoration-color: #00af00\">6</span>, <span style=\"color: #00af00; text-decoration-color: #00af00\">512</span>)      │    <span style=\"color: #00af00; text-decoration-color: #00af00\">14,714,688</span> │\n",
       "├─────────────────────────────────┼────────────────────────┼───────────────┤\n",
       "│ global_average_pooling2d_14     │ (<span style=\"color: #00d7ff; text-decoration-color: #00d7ff\">None</span>, <span style=\"color: #00af00; text-decoration-color: #00af00\">512</span>)            │             <span style=\"color: #00af00; text-decoration-color: #00af00\">0</span> │\n",
       "│ (<span style=\"color: #0087ff; text-decoration-color: #0087ff\">GlobalAveragePooling2D</span>)        │                        │               │\n",
       "├─────────────────────────────────┼────────────────────────┼───────────────┤\n",
       "│ flatten_16 (<span style=\"color: #0087ff; text-decoration-color: #0087ff\">Flatten</span>)            │ (<span style=\"color: #00d7ff; text-decoration-color: #00d7ff\">None</span>, <span style=\"color: #00af00; text-decoration-color: #00af00\">512</span>)            │             <span style=\"color: #00af00; text-decoration-color: #00af00\">0</span> │\n",
       "├─────────────────────────────────┼────────────────────────┼───────────────┤\n",
       "│ dense_52 (<span style=\"color: #0087ff; text-decoration-color: #0087ff\">Dense</span>)                │ (<span style=\"color: #00d7ff; text-decoration-color: #00d7ff\">None</span>, <span style=\"color: #00af00; text-decoration-color: #00af00\">256</span>)            │       <span style=\"color: #00af00; text-decoration-color: #00af00\">131,328</span> │\n",
       "├─────────────────────────────────┼────────────────────────┼───────────────┤\n",
       "│ dense_53 (<span style=\"color: #0087ff; text-decoration-color: #0087ff\">Dense</span>)                │ (<span style=\"color: #00d7ff; text-decoration-color: #00d7ff\">None</span>, <span style=\"color: #00af00; text-decoration-color: #00af00\">16</span>)             │         <span style=\"color: #00af00; text-decoration-color: #00af00\">4,112</span> │\n",
       "└─────────────────────────────────┴────────────────────────┴───────────────┘\n",
       "</pre>\n"
      ],
      "text/plain": [
       "┏━━━━━━━━━━━━━━━━━━━━━━━━━━━━━━━━━┳━━━━━━━━━━━━━━━━━━━━━━━━┳━━━━━━━━━━━━━━━┓\n",
       "┃\u001b[1m \u001b[0m\u001b[1mLayer (type)                   \u001b[0m\u001b[1m \u001b[0m┃\u001b[1m \u001b[0m\u001b[1mOutput Shape          \u001b[0m\u001b[1m \u001b[0m┃\u001b[1m \u001b[0m\u001b[1m      Param #\u001b[0m\u001b[1m \u001b[0m┃\n",
       "┡━━━━━━━━━━━━━━━━━━━━━━━━━━━━━━━━━╇━━━━━━━━━━━━━━━━━━━━━━━━╇━━━━━━━━━━━━━━━┩\n",
       "│ vgg16 (\u001b[38;5;33mFunctional\u001b[0m)              │ (\u001b[38;5;45mNone\u001b[0m, \u001b[38;5;34m6\u001b[0m, \u001b[38;5;34m6\u001b[0m, \u001b[38;5;34m512\u001b[0m)      │    \u001b[38;5;34m14,714,688\u001b[0m │\n",
       "├─────────────────────────────────┼────────────────────────┼───────────────┤\n",
       "│ global_average_pooling2d_14     │ (\u001b[38;5;45mNone\u001b[0m, \u001b[38;5;34m512\u001b[0m)            │             \u001b[38;5;34m0\u001b[0m │\n",
       "│ (\u001b[38;5;33mGlobalAveragePooling2D\u001b[0m)        │                        │               │\n",
       "├─────────────────────────────────┼────────────────────────┼───────────────┤\n",
       "│ flatten_16 (\u001b[38;5;33mFlatten\u001b[0m)            │ (\u001b[38;5;45mNone\u001b[0m, \u001b[38;5;34m512\u001b[0m)            │             \u001b[38;5;34m0\u001b[0m │\n",
       "├─────────────────────────────────┼────────────────────────┼───────────────┤\n",
       "│ dense_52 (\u001b[38;5;33mDense\u001b[0m)                │ (\u001b[38;5;45mNone\u001b[0m, \u001b[38;5;34m256\u001b[0m)            │       \u001b[38;5;34m131,328\u001b[0m │\n",
       "├─────────────────────────────────┼────────────────────────┼───────────────┤\n",
       "│ dense_53 (\u001b[38;5;33mDense\u001b[0m)                │ (\u001b[38;5;45mNone\u001b[0m, \u001b[38;5;34m16\u001b[0m)             │         \u001b[38;5;34m4,112\u001b[0m │\n",
       "└─────────────────────────────────┴────────────────────────┴───────────────┘\n"
      ]
     },
     "metadata": {},
     "output_type": "display_data"
    },
    {
     "data": {
      "text/html": [
       "<pre style=\"white-space:pre;overflow-x:auto;line-height:normal;font-family:Menlo,'DejaVu Sans Mono',consolas,'Courier New',monospace\"><span style=\"font-weight: bold\"> Total params: </span><span style=\"color: #00af00; text-decoration-color: #00af00\">14,850,128</span> (56.65 MB)\n",
       "</pre>\n"
      ],
      "text/plain": [
       "\u001b[1m Total params: \u001b[0m\u001b[38;5;34m14,850,128\u001b[0m (56.65 MB)\n"
      ]
     },
     "metadata": {},
     "output_type": "display_data"
    },
    {
     "data": {
      "text/html": [
       "<pre style=\"white-space:pre;overflow-x:auto;line-height:normal;font-family:Menlo,'DejaVu Sans Mono',consolas,'Courier New',monospace\"><span style=\"font-weight: bold\"> Trainable params: </span><span style=\"color: #00af00; text-decoration-color: #00af00\">135,440</span> (529.06 KB)\n",
       "</pre>\n"
      ],
      "text/plain": [
       "\u001b[1m Trainable params: \u001b[0m\u001b[38;5;34m135,440\u001b[0m (529.06 KB)\n"
      ]
     },
     "metadata": {},
     "output_type": "display_data"
    },
    {
     "data": {
      "text/html": [
       "<pre style=\"white-space:pre;overflow-x:auto;line-height:normal;font-family:Menlo,'DejaVu Sans Mono',consolas,'Courier New',monospace\"><span style=\"font-weight: bold\"> Non-trainable params: </span><span style=\"color: #00af00; text-decoration-color: #00af00\">14,714,688</span> (56.13 MB)\n",
       "</pre>\n"
      ],
      "text/plain": [
       "\u001b[1m Non-trainable params: \u001b[0m\u001b[38;5;34m14,714,688\u001b[0m (56.13 MB)\n"
      ]
     },
     "metadata": {},
     "output_type": "display_data"
    }
   ],
   "source": [
    "img_shape = (img_size, img_size, 3)\n",
    "\n",
    "# Load pre-trained EfficientNet model\n",
    "vgg_model = tf.keras.applications.VGG16(include_top=False,\n",
    "                                        weights='imagenet',\n",
    "                                        input_shape=img_shape)\n",
    "\n",
    "# Freeze layers in the base model\n",
    "for layer in vgg_model.layers:\n",
    "    layer.trainable = False\n",
    "\n",
    "# Create a sequential model\n",
    "model = Sequential()\n",
    "\n",
    "# Add the base model\n",
    "model.add(vgg_model)\n",
    "\n",
    "# Add a global average pooling layer\n",
    "model.add(layers.GlobalAveragePooling2D())\n",
    "\n",
    "# Add a flatten layer\n",
    "model.add(layers.Flatten())\n",
    "\n",
    "# Add final classification layers\n",
    "model.add(layers.Dense(256, activation='relu'))\n",
    "model.add(layers.Dense(class_num, activation='softmax'))\n",
    "\n",
    "model.build((None, img_size, img_size, 3))\n",
    "\n",
    "# Compile the model\n",
    "model.compile(optimizer='rmsprop', loss='categorical_crossentropy', metrics=['accuracy', 'precision', 'recall'])\n",
    "\n",
    "# Print model summary\n",
    "model.summary()"
   ]
  },
  {
   "cell_type": "code",
   "execution_count": 24,
   "metadata": {},
   "outputs": [
    {
     "name": "stdout",
     "output_type": "stream",
     "text": [
      "Epoch 1/10\n",
      "\u001b[1m21/21\u001b[0m \u001b[32m━━━━━━━━━━━━━━━━━━━━\u001b[0m\u001b[37m\u001b[0m \u001b[1m246s\u001b[0m 12s/step - accuracy: 0.1916 - loss: 2.6345 - precision: 0.0000e+00 - recall: 0.0000e+00 - val_accuracy: 0.4625 - val_loss: 2.1622 - val_precision: 0.0000e+00 - val_recall: 0.0000e+00\n",
      "Epoch 2/10\n",
      "\u001b[1m21/21\u001b[0m \u001b[32m━━━━━━━━━━━━━━━━━━━━\u001b[0m\u001b[37m\u001b[0m \u001b[1m243s\u001b[0m 11s/step - accuracy: 0.4402 - loss: 2.1096 - precision: 0.9545 - recall: 0.0121 - val_accuracy: 0.5375 - val_loss: 1.7662 - val_precision: 1.0000 - val_recall: 0.0500\n",
      "Epoch 3/10\n",
      "\u001b[1m21/21\u001b[0m \u001b[32m━━━━━━━━━━━━━━━━━━━━\u001b[0m\u001b[37m\u001b[0m \u001b[1m244s\u001b[0m 12s/step - accuracy: 0.6087 - loss: 1.7365 - precision: 0.9866 - recall: 0.0838 - val_accuracy: 0.6250 - val_loss: 1.4901 - val_precision: 1.0000 - val_recall: 0.1375\n",
      "Epoch 4/10\n",
      "\u001b[1m21/21\u001b[0m \u001b[32m━━━━━━━━━━━━━━━━━━━━\u001b[0m\u001b[37m\u001b[0m \u001b[1m262s\u001b[0m 11s/step - accuracy: 0.6577 - loss: 1.4598 - precision: 0.9803 - recall: 0.1711 - val_accuracy: 0.8000 - val_loss: 1.1765 - val_precision: 1.0000 - val_recall: 0.2250\n",
      "Epoch 5/10\n",
      "\u001b[1m21/21\u001b[0m \u001b[32m━━━━━━━━━━━━━━━━━━━━\u001b[0m\u001b[37m\u001b[0m \u001b[1m245s\u001b[0m 12s/step - accuracy: 0.7172 - loss: 1.2459 - precision: 0.9882 - recall: 0.2713 - val_accuracy: 0.7250 - val_loss: 1.0939 - val_precision: 1.0000 - val_recall: 0.3875\n",
      "Epoch 6/10\n",
      "\u001b[1m21/21\u001b[0m \u001b[32m━━━━━━━━━━━━━━━━━━━━\u001b[0m\u001b[37m\u001b[0m \u001b[1m242s\u001b[0m 11s/step - accuracy: 0.7349 - loss: 1.1118 - precision: 0.9678 - recall: 0.3537 - val_accuracy: 0.6875 - val_loss: 0.9657 - val_precision: 0.8605 - val_recall: 0.4625\n",
      "Epoch 7/10\n",
      "\u001b[1m21/21\u001b[0m \u001b[32m━━━━━━━━━━━━━━━━━━━━\u001b[0m\u001b[37m\u001b[0m \u001b[1m243s\u001b[0m 11s/step - accuracy: 0.7493 - loss: 0.9905 - precision: 0.9464 - recall: 0.4429 - val_accuracy: 0.7750 - val_loss: 0.8642 - val_precision: 0.9565 - val_recall: 0.5500\n",
      "Epoch 8/10\n",
      "\u001b[1m21/21\u001b[0m \u001b[32m━━━━━━━━━━━━━━━━━━━━\u001b[0m\u001b[37m\u001b[0m \u001b[1m242s\u001b[0m 11s/step - accuracy: 0.7818 - loss: 0.8876 - precision: 0.9605 - recall: 0.4907 - val_accuracy: 0.8125 - val_loss: 0.7620 - val_precision: 0.9792 - val_recall: 0.5875\n",
      "Epoch 9/10\n",
      "\u001b[1m21/21\u001b[0m \u001b[32m━━━━━━━━━━━━━━━━━━━━\u001b[0m\u001b[37m\u001b[0m \u001b[1m240s\u001b[0m 11s/step - accuracy: 0.7924 - loss: 0.8081 - precision: 0.9558 - recall: 0.5538 - val_accuracy: 0.7625 - val_loss: 0.7377 - val_precision: 0.9245 - val_recall: 0.6125\n",
      "Epoch 10/10\n",
      "\u001b[1m21/21\u001b[0m \u001b[32m━━━━━━━━━━━━━━━━━━━━\u001b[0m\u001b[37m\u001b[0m \u001b[1m244s\u001b[0m 12s/step - accuracy: 0.8143 - loss: 0.7435 - precision: 0.9490 - recall: 0.6015 - val_accuracy: 0.8625 - val_loss: 0.5996 - val_precision: 0.9508 - val_recall: 0.7250\n"
     ]
    }
   ],
   "source": [
    "model_history = model.fit(X_train, y_train_encoded, batch_size=128, epochs=10, validation_data=(X_val, y_val_encoded))"
   ]
  },
  {
   "cell_type": "code",
   "execution_count": 31,
   "metadata": {},
   "outputs": [
    {
     "name": "stdout",
     "output_type": "stream",
     "text": [
      "\u001b[1m3/3\u001b[0m \u001b[32m━━━━━━━━━━━━━━━━━━━━\u001b[0m\u001b[37m\u001b[0m \u001b[1m5s\u001b[0m 2s/step\n"
     ]
    }
   ],
   "source": [
    "prediction = model.predict(X_test)"
   ]
  },
  {
   "cell_type": "code",
   "execution_count": 32,
   "metadata": {},
   "outputs": [],
   "source": [
    "pred = np.argmax(prediction, axis=1)"
   ]
  },
  {
   "cell_type": "code",
   "execution_count": 37,
   "metadata": {},
   "outputs": [
    {
     "name": "stdout",
     "output_type": "stream",
     "text": [
      "Accuracy: 0.8625\n"
     ]
    }
   ],
   "source": [
    "accuracy = accuracy_score(y_test, pred)\n",
    "print(\"Accuracy:\", accuracy)"
   ]
  },
  {
   "cell_type": "code",
   "execution_count": 34,
   "metadata": {},
   "outputs": [
    {
     "name": "stdout",
     "output_type": "stream",
     "text": [
      "              precision    recall  f1-score   support\n",
      "\n",
      "           0       0.56      1.00      0.71         5\n",
      "           1       1.00      0.20      0.33         5\n",
      "           2       0.83      1.00      0.91         5\n",
      "           3       1.00      1.00      1.00         5\n",
      "           4       1.00      1.00      1.00         5\n",
      "           5       1.00      0.80      0.89         5\n",
      "           6       1.00      1.00      1.00         5\n",
      "           7       0.80      0.80      0.80         5\n",
      "           8       0.71      1.00      0.83         5\n",
      "           9       0.71      1.00      0.83         5\n",
      "          10       1.00      0.80      0.89         5\n",
      "          11       1.00      0.80      0.89         5\n",
      "          12       0.83      1.00      0.91         5\n",
      "          13       1.00      0.60      0.75         5\n",
      "          14       1.00      1.00      1.00         5\n",
      "          15       1.00      0.80      0.89         5\n",
      "\n",
      "    accuracy                           0.86        80\n",
      "   macro avg       0.90      0.86      0.85        80\n",
      "weighted avg       0.90      0.86      0.85        80\n",
      "\n"
     ]
    }
   ],
   "source": [
    "report = classification_report(y_test, pred)\n",
    "print(report)"
   ]
  },
  {
   "cell_type": "code",
   "execution_count": 35,
   "metadata": {},
   "outputs": [
    {
     "data": {
      "image/png": "[encoded data removed]",
      "text/plain": [
       "<Figure size 640x480 with 1 Axes>"
      ]
     },
     "metadata": {},
     "output_type": "display_data"
    }
   ],
   "source": [
    "fig = plt.figure()\n",
    "plt.plot(model_history.history[\"val_loss\"], color='red', label=\"val_loss\")\n",
    "plt.plot(model_history.history[\"val_accuracy\"], color='orange', label=\"val_accuracy\")\n",
    "plt.plot(model_history.history[\"val_precision\"], color='purple', label=\"val_precision\")\n",
    "plt.plot(model_history.history[\"val_recall\"], color='black', label=\"val_recall\")\n",
    "plt.plot(model_history.history[\"precision\"], color='blue', label=\"precision\")\n",
    "plt.plot(model_history.history[\"accuracy\"], color='green', label=\"accuracy\")\n",
    "plt.plot(model_history.history[\"recall\"], color='yellow', label=\"recall\")\n",
    "fig.suptitle(\"History\", fontsize=20)\n",
    "plt.legend(loc=\"upper left\")\n",
    "plt.show()"
   ]
  },
  {
   "cell_type": "code",
   "execution_count": 36,
   "metadata": {},
   "outputs": [
    {
     "name": "stderr",
     "output_type": "stream",
     "text": [
      "WARNING:absl:You are saving your model as an HDF5 file via `model.save()` or `keras.saving.save_model(model)`. This file format is considered legacy. We recommend using instead the native Keras format, e.g. `model.save('my_model.keras')` or `keras.saving.save_model(model, 'my_model.keras')`. \n"
     ]
    }
   ],
   "source": [
    "model.save(\"../Models/vgg16.h5\")"
   ]
  }
 ],
 "metadata": {
  "kernelspec": {
   "display_name": "Python 3",
   "language": "python",
   "name": "python3"
  },
  "language_info": {
   "codemirror_mode": {
    "name": "ipython",
    "version": 3
   },
   "file_extension": ".py",
   "mimetype": "text/x-python",
   "name": "python",
   "nbconvert_exporter": "python",
   "pygments_lexer": "ipython3",
   "version": "3.11.4"
  }
 },
 "nbformat": 4,
 "nbformat_minor": 2
}
