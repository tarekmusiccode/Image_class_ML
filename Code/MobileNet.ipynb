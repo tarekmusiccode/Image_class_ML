{
 "cells": [
  {
   "cell_type": "code",
   "execution_count": 1,
   "metadata": {},
   "outputs": [],
   "source": [
    "## Misc imports\n",
    "import os\n",
    "import cv2\n",
    "import random\n",
    "from tqdm import tqdm"
   ]
  },
  {
   "cell_type": "code",
   "execution_count": 2,
   "metadata": {},
   "outputs": [],
   "source": [
    "\n",
    "\n",
    "## import libraries\n",
    "import matplotlib.pyplot as plt\n",
    "import numpy as np\n",
    "import tensorflow as tf\n",
    "from sklearn.model_selection import train_test_split\n",
    "from sklearn.preprocessing import OneHotEncoder\n",
    "from sklearn.metrics import accuracy_score, confusion_matrix, f1_score, precision_recall_curve, precision_score, classification_report\n",
    "from tensorflow import keras\n",
    "from keras.models import Sequential\n",
    "from keras.layers import Conv2D, MaxPooling2D, Dense, Flatten\n",
    "from keras.utils import to_categorical\n",
    "from tensorflow.keras.preprocessing.image import ImageDataGenerator, load_img, img_to_array\n",
    "from tensorflow.keras import layers"
   ]
  },
  {
   "cell_type": "code",
   "execution_count": 3,
   "metadata": {},
   "outputs": [
    {
     "name": "stderr",
     "output_type": "stream",
     "text": [
      "train data ABBOTTS BABBLER --->: 100%|██████████| 163/163 [00:00<00:00, 404.29it/s]\n",
      "test data ABBOTTS BABBLER --->: 100%|██████████| 5/5 [00:00<00:00, 382.74it/s]\n",
      "val data ABBOTTS BABBLER --->: 100%|██████████| 5/5 [00:00<00:00, 407.28it/s]\n",
      "train data ABBOTTS BOOBY --->: 100%|██████████| 180/180 [00:00<00:00, 415.47it/s]\n",
      "test data ABBOTTS BOOBY --->: 100%|██████████| 5/5 [00:00<00:00, 320.51it/s]\n",
      "val data ABBOTTS BOOBY --->: 100%|██████████| 5/5 [00:00<00:00, 439.83it/s]\n",
      "train data ABYSSINIAN GROUND HORNBILL --->: 100%|██████████| 179/179 [00:00<00:00, 339.42it/s]\n",
      "test data ABYSSINIAN GROUND HORNBILL --->: 100%|██████████| 5/5 [00:00<00:00, 257.96it/s]\n",
      "val data ABYSSINIAN GROUND HORNBILL --->: 100%|██████████| 5/5 [00:00<00:00, 303.45it/s]\n",
      "train data AFRICAN CROWNED CRANE --->: 100%|██████████| 135/135 [00:00<00:00, 257.49it/s]\n",
      "test data AFRICAN CROWNED CRANE --->: 100%|██████████| 5/5 [00:00<00:00, 248.19it/s]\n",
      "val data AFRICAN CROWNED CRANE --->: 100%|██████████| 5/5 [00:00<00:00, 223.67it/s]\n",
      "train data AFRICAN EMERALD CUCKOO --->: 100%|██████████| 154/154 [00:00<00:00, 235.13it/s]\n",
      "test data AFRICAN EMERALD CUCKOO --->: 100%|██████████| 5/5 [00:00<00:00, 204.77it/s]\n",
      "val data AFRICAN EMERALD CUCKOO --->: 100%|██████████| 5/5 [00:00<00:00, 220.37it/s]\n",
      "train data AFRICAN FIREFINCH --->: 100%|██████████| 137/137 [00:00<00:00, 236.98it/s]\n",
      "test data AFRICAN FIREFINCH --->: 100%|██████████| 5/5 [00:00<00:00, 246.83it/s]\n",
      "val data AFRICAN FIREFINCH --->: 100%|██████████| 5/5 [00:00<00:00, 265.26it/s]\n",
      "train data AFRICAN OYSTER CATCHER --->: 100%|██████████| 155/155 [00:00<00:00, 251.58it/s]\n",
      "test data AFRICAN OYSTER CATCHER --->: 100%|██████████| 5/5 [00:00<00:00, 253.84it/s]\n",
      "val data AFRICAN OYSTER CATCHER --->: 100%|██████████| 5/5 [00:00<00:00, 239.85it/s]\n",
      "train data AFRICAN PIED HORNBILL --->: 100%|██████████| 187/187 [00:00<00:00, 278.96it/s]\n",
      "test data AFRICAN PIED HORNBILL --->: 100%|██████████| 5/5 [00:00<00:00, 198.77it/s]\n",
      "val data AFRICAN PIED HORNBILL --->: 100%|██████████| 5/5 [00:00<00:00, 104.49it/s]\n",
      "train data AFRICAN PYGMY GOOSE --->: 100%|██████████| 179/179 [00:00<00:00, 275.08it/s]\n",
      "test data AFRICAN PYGMY GOOSE --->: 100%|██████████| 5/5 [00:00<00:00, 237.83it/s]\n",
      "val data AFRICAN PYGMY GOOSE --->: 100%|██████████| 5/5 [00:00<00:00, 247.48it/s]\n",
      "train data ALBATROSS --->: 100%|██████████| 132/132 [00:00<00:00, 234.65it/s]\n",
      "test data ALBATROSS --->: 100%|██████████| 5/5 [00:00<00:00, 255.50it/s]\n",
      "val data ALBATROSS --->: 100%|██████████| 5/5 [00:00<00:00, 245.91it/s]\n",
      "train data ALBERTS TOWHEE --->: 100%|██████████| 161/161 [00:00<00:00, 270.83it/s]\n",
      "test data ALBERTS TOWHEE --->: 100%|██████████| 5/5 [00:00<00:00, 235.96it/s]\n",
      "val data ALBERTS TOWHEE --->: 100%|██████████| 5/5 [00:00<00:00, 235.59it/s]\n"
     ]
    }
   ],
   "source": [
    "\n",
    "## Data Loading And Preprocessing\n",
    "img_size = 200\n",
    "\n",
    "data_path = \"../Data\"\n",
    "\n",
    "datas = os.listdir(os.path.join(data_path, \"train\"))\n",
    "images_train = []\n",
    "images_test = []\n",
    "images_val = []\n",
    "\n",
    "class_num = -1\n",
    "for data in datas:\n",
    "    class_num += 1\n",
    "    for img in tqdm(os.listdir(os.path.join(data_path, \"train\", data)), desc=f\"train data {data} --->\"):\n",
    "        img_np = cv2.resize(cv2.imread(os.path.join(os.path.join(data_path, \"train\", data), img), cv2.COLOR_BGR2RGB).astype(np.float32) / 255., (img_size, img_size))\n",
    "        images_train.append(\n",
    "            {\n",
    "                \"Image\": img_np,\n",
    "                \"Class\": class_num,\n",
    "                class_num: data\n",
    "            })\n",
    "    for img in tqdm(os.listdir(os.path.join(data_path, \"test\", data)), desc=f\"test data {data} --->\"):\n",
    "        img_np = cv2.resize(cv2.imread(os.path.join(os.path.join(data_path, \"test\", data), img), cv2.COLOR_BGR2RGB).astype(np.float32) / 255., (img_size, img_size))\n",
    "        images_test.append(\n",
    "            {\n",
    "                \"Image\": img_np,\n",
    "                \"Class\": class_num,\n",
    "                class_num: data\n",
    "            })\n",
    "    for img in tqdm(os.listdir(os.path.join(data_path, \"valid\", data)), desc=f\"val data {data} --->\"):\n",
    "        img_np = cv2.resize(cv2.imread(os.path.join(os.path.join(data_path, \"valid\", data), img), cv2.COLOR_BGR2RGB).astype(np.float32) / 255., (img_size, img_size))\n",
    "        images_val.append(\n",
    "            {\n",
    "                \"Image\": img_np,\n",
    "                \"Class\": class_num,\n",
    "                class_num: data\n",
    "            })\n",
    "    if class_num == 15:\n",
    "        class_num += 1\n",
    "        break"
   ]
  },
  {
   "cell_type": "code",
   "execution_count": 4,
   "metadata": {},
   "outputs": [
    {
     "name": "stdout",
     "output_type": "stream",
     "text": [
      "(1762, 200, 200, 3)\n",
      "(1762,)\n",
      "(1762, 11)\n",
      "(55, 200, 200, 3)\n",
      "(55,)\n",
      "(55, 11)\n",
      "(55, 200, 200, 3)\n",
      "(55,)\n",
      "(55, 11)\n"
     ]
    }
   ],
   "source": [
    "\n",
    "## Split And Encoding\n",
    "\n",
    "X_train = []\n",
    "y_train = []\n",
    "for data in images_train:\n",
    "    X_train.append(data[\"Image\"])\n",
    "    y_train.append(data[\"Class\"])\n",
    "X_test = []\n",
    "y_test = []\n",
    "for data in images_test:\n",
    "    X_test.append(data[\"Image\"])\n",
    "    y_test.append(data[\"Class\"])\n",
    "X_val = []\n",
    "y_val = []\n",
    "for data in images_val:\n",
    "    X_val.append(data[\"Image\"])\n",
    "    y_val.append(data[\"Class\"])\n",
    "\n",
    "\n",
    "X_train = np.array(X_train).reshape(-1, img_size, img_size, 3)\n",
    "y_train = np.array(y_train)\n",
    "X_test = np.array(X_test).reshape(-1, img_size, img_size, 3)\n",
    "y_test = np.array(y_test)\n",
    "X_val = np.array(X_val).reshape(-1, img_size, img_size, 3)\n",
    "y_val = np.array(y_val)\n",
    "y_train_encoded = to_categorical(y_train, num_classes=class_num)\n",
    "y_test_encoded = to_categorical(y_test, num_classes=class_num)\n",
    "y_val_encoded = to_categorical(y_test, num_classes=class_num)\n",
    "print(X_train.shape)\n",
    "print(y_train.shape)\n",
    "print(y_train_encoded.shape)\n",
    "print(X_test.shape)\n",
    "print(y_test.shape)\n",
    "print(y_test_encoded.shape)\n",
    "print(X_val.shape)\n",
    "print(y_val.shape)\n",
    "print(y_val_encoded.shape)"
   ]
  },
  {
   "cell_type": "code",
   "execution_count": 5,
   "metadata": {},
   "outputs": [],
   "source": [
    "\n",
    "\n",
    "\n",
    "## MobileNet\n",
    "def build_MobileNetV2_model(img_size, class_num):\n",
    "    # Define the input shape\n",
    "    img_shape = (img_size, img_size, 3)\n",
    "    \n",
    "    # Load pre-trained EfficientNet model\n",
    "    MobileNet_V2 = tf.keras.applications.MobileNetV2(include_top=False,\n",
    "                                            weights='imagenet',\n",
    "                                            input_shape=img_shape)\n",
    "\n",
    "    # Freeze layers in the base model look at this part again and maybe make the trainable true\n",
    "    for layer in MobileNet_V2.layers:\n",
    "        layer.trainable = False\n",
    "\n",
    "    # Create a sequential model\n",
    "    model = Sequential()\n",
    "\n",
    "    # Add the base model\n",
    "    model.add(MobileNet_V2)\n",
    "\n",
    "    # Add a global average pooling layer\n",
    "    model.add(layers.GlobalAveragePooling2D())\n",
    "\n",
    "    # Add a flatten layer\n",
    "    model.add(layers.Flatten())\n",
    "\n",
    "    # Add final classification layers\n",
    "    model.add(layers.Dense(256, activation='relu'))\n",
    "    model.add(layers.Dense(class_num, activation='softmax'))\n",
    "\n",
    "\n",
    "    model.build((None,img_size,img_size,3))\n",
    "\n",
    "    # Compile the model\n",
    "    model.compile(optimizer='adam', loss='categorical_crossentropy', metrics=['accuracy', 'precision', 'recall'])\n",
    "\n",
    "    # Print model summary\n",
    "    model.summary()\n",
    "\n",
    "\n",
    "    return model"
   ]
  },
  {
   "cell_type": "code",
   "execution_count": 6,
   "metadata": {},
   "outputs": [
    {
     "name": "stderr",
     "output_type": "stream",
     "text": [
      "C:\\Users\\farah\\AppData\\Local\\Temp\\ipykernel_6720\\2102045611.py:7: UserWarning: `input_shape` is undefined or non-square, or `rows` is not in [96, 128, 160, 192, 224]. Weights for input shape (224, 224) will be loaded as the default.\n",
      "  MobileNet_V2 = tf.keras.applications.MobileNetV2(include_top=False,\n"
     ]
    },
    {
     "name": "stdout",
     "output_type": "stream",
     "text": [
      "Downloading data from https://storage.googleapis.com/tensorflow/keras-applications/mobilenet_v2/mobilenet_v2_weights_tf_dim_ordering_tf_kernels_1.0_224_no_top.h5\n",
      "\u001b[1m9406464/9406464\u001b[0m \u001b[32m━━━━━━━━━━━━━━━━━━━━\u001b[0m\u001b[37m\u001b[0m \u001b[1m5s\u001b[0m 1us/step\n"
     ]
    },
    {
     "data": {
      "text/html": [
       "<pre style=\"white-space:pre;overflow-x:auto;line-height:normal;font-family:Menlo,'DejaVu Sans Mono',consolas,'Courier New',monospace\"><span style=\"font-weight: bold\">Model: \"sequential\"</span>\n",
       "</pre>\n"
      ],
      "text/plain": [
       "\u001b[1mModel: \"sequential\"\u001b[0m\n"
      ]
     },
     "metadata": {},
     "output_type": "display_data"
    },
    {
     "data": {
      "text/html": [
       "<pre style=\"white-space:pre;overflow-x:auto;line-height:normal;font-family:Menlo,'DejaVu Sans Mono',consolas,'Courier New',monospace\">┏━━━━━━━━━━━━━━━━━━━━━━━━━━━━━━━━━┳━━━━━━━━━━━━━━━━━━━━━━━━┳━━━━━━━━━━━━━━━┓\n",
       "┃<span style=\"font-weight: bold\"> Layer (type)                    </span>┃<span style=\"font-weight: bold\"> Output Shape           </span>┃<span style=\"font-weight: bold\">       Param # </span>┃\n",
       "┡━━━━━━━━━━━━━━━━━━━━━━━━━━━━━━━━━╇━━━━━━━━━━━━━━━━━━━━━━━━╇━━━━━━━━━━━━━━━┩\n",
       "│ mobilenetv2_1.00_224            │ (<span style=\"color: #00d7ff; text-decoration-color: #00d7ff\">None</span>, <span style=\"color: #00af00; text-decoration-color: #00af00\">7</span>, <span style=\"color: #00af00; text-decoration-color: #00af00\">7</span>, <span style=\"color: #00af00; text-decoration-color: #00af00\">1280</span>)     │     <span style=\"color: #00af00; text-decoration-color: #00af00\">2,257,984</span> │\n",
       "│ (<span style=\"color: #0087ff; text-decoration-color: #0087ff\">Functional</span>)                    │                        │               │\n",
       "├─────────────────────────────────┼────────────────────────┼───────────────┤\n",
       "│ global_average_pooling2d        │ (<span style=\"color: #00d7ff; text-decoration-color: #00d7ff\">None</span>, <span style=\"color: #00af00; text-decoration-color: #00af00\">1280</span>)           │             <span style=\"color: #00af00; text-decoration-color: #00af00\">0</span> │\n",
       "│ (<span style=\"color: #0087ff; text-decoration-color: #0087ff\">GlobalAveragePooling2D</span>)        │                        │               │\n",
       "├─────────────────────────────────┼────────────────────────┼───────────────┤\n",
       "│ flatten (<span style=\"color: #0087ff; text-decoration-color: #0087ff\">Flatten</span>)               │ (<span style=\"color: #00d7ff; text-decoration-color: #00d7ff\">None</span>, <span style=\"color: #00af00; text-decoration-color: #00af00\">1280</span>)           │             <span style=\"color: #00af00; text-decoration-color: #00af00\">0</span> │\n",
       "├─────────────────────────────────┼────────────────────────┼───────────────┤\n",
       "│ dense (<span style=\"color: #0087ff; text-decoration-color: #0087ff\">Dense</span>)                   │ (<span style=\"color: #00d7ff; text-decoration-color: #00d7ff\">None</span>, <span style=\"color: #00af00; text-decoration-color: #00af00\">256</span>)            │       <span style=\"color: #00af00; text-decoration-color: #00af00\">327,936</span> │\n",
       "├─────────────────────────────────┼────────────────────────┼───────────────┤\n",
       "│ dense_1 (<span style=\"color: #0087ff; text-decoration-color: #0087ff\">Dense</span>)                 │ (<span style=\"color: #00d7ff; text-decoration-color: #00d7ff\">None</span>, <span style=\"color: #00af00; text-decoration-color: #00af00\">11</span>)             │         <span style=\"color: #00af00; text-decoration-color: #00af00\">2,827</span> │\n",
       "└─────────────────────────────────┴────────────────────────┴───────────────┘\n",
       "</pre>\n"
      ],
      "text/plain": [
       "┏━━━━━━━━━━━━━━━━━━━━━━━━━━━━━━━━━┳━━━━━━━━━━━━━━━━━━━━━━━━┳━━━━━━━━━━━━━━━┓\n",
       "┃\u001b[1m \u001b[0m\u001b[1mLayer (type)                   \u001b[0m\u001b[1m \u001b[0m┃\u001b[1m \u001b[0m\u001b[1mOutput Shape          \u001b[0m\u001b[1m \u001b[0m┃\u001b[1m \u001b[0m\u001b[1m      Param #\u001b[0m\u001b[1m \u001b[0m┃\n",
       "┡━━━━━━━━━━━━━━━━━━━━━━━━━━━━━━━━━╇━━━━━━━━━━━━━━━━━━━━━━━━╇━━━━━━━━━━━━━━━┩\n",
       "│ mobilenetv2_1.00_224            │ (\u001b[38;5;45mNone\u001b[0m, \u001b[38;5;34m7\u001b[0m, \u001b[38;5;34m7\u001b[0m, \u001b[38;5;34m1280\u001b[0m)     │     \u001b[38;5;34m2,257,984\u001b[0m │\n",
       "│ (\u001b[38;5;33mFunctional\u001b[0m)                    │                        │               │\n",
       "├─────────────────────────────────┼────────────────────────┼───────────────┤\n",
       "│ global_average_pooling2d        │ (\u001b[38;5;45mNone\u001b[0m, \u001b[38;5;34m1280\u001b[0m)           │             \u001b[38;5;34m0\u001b[0m │\n",
       "│ (\u001b[38;5;33mGlobalAveragePooling2D\u001b[0m)        │                        │               │\n",
       "├─────────────────────────────────┼────────────────────────┼───────────────┤\n",
       "│ flatten (\u001b[38;5;33mFlatten\u001b[0m)               │ (\u001b[38;5;45mNone\u001b[0m, \u001b[38;5;34m1280\u001b[0m)           │             \u001b[38;5;34m0\u001b[0m │\n",
       "├─────────────────────────────────┼────────────────────────┼───────────────┤\n",
       "│ dense (\u001b[38;5;33mDense\u001b[0m)                   │ (\u001b[38;5;45mNone\u001b[0m, \u001b[38;5;34m256\u001b[0m)            │       \u001b[38;5;34m327,936\u001b[0m │\n",
       "├─────────────────────────────────┼────────────────────────┼───────────────┤\n",
       "│ dense_1 (\u001b[38;5;33mDense\u001b[0m)                 │ (\u001b[38;5;45mNone\u001b[0m, \u001b[38;5;34m11\u001b[0m)             │         \u001b[38;5;34m2,827\u001b[0m │\n",
       "└─────────────────────────────────┴────────────────────────┴───────────────┘\n"
      ]
     },
     "metadata": {},
     "output_type": "display_data"
    },
    {
     "data": {
      "text/html": [
       "<pre style=\"white-space:pre;overflow-x:auto;line-height:normal;font-family:Menlo,'DejaVu Sans Mono',consolas,'Courier New',monospace\"><span style=\"font-weight: bold\"> Total params: </span><span style=\"color: #00af00; text-decoration-color: #00af00\">2,588,747</span> (9.88 MB)\n",
       "</pre>\n"
      ],
      "text/plain": [
       "\u001b[1m Total params: \u001b[0m\u001b[38;5;34m2,588,747\u001b[0m (9.88 MB)\n"
      ]
     },
     "metadata": {},
     "output_type": "display_data"
    },
    {
     "data": {
      "text/html": [
       "<pre style=\"white-space:pre;overflow-x:auto;line-height:normal;font-family:Menlo,'DejaVu Sans Mono',consolas,'Courier New',monospace\"><span style=\"font-weight: bold\"> Trainable params: </span><span style=\"color: #00af00; text-decoration-color: #00af00\">330,763</span> (1.26 MB)\n",
       "</pre>\n"
      ],
      "text/plain": [
       "\u001b[1m Trainable params: \u001b[0m\u001b[38;5;34m330,763\u001b[0m (1.26 MB)\n"
      ]
     },
     "metadata": {},
     "output_type": "display_data"
    },
    {
     "data": {
      "text/html": [
       "<pre style=\"white-space:pre;overflow-x:auto;line-height:normal;font-family:Menlo,'DejaVu Sans Mono',consolas,'Courier New',monospace\"><span style=\"font-weight: bold\"> Non-trainable params: </span><span style=\"color: #00af00; text-decoration-color: #00af00\">2,257,984</span> (8.61 MB)\n",
       "</pre>\n"
      ],
      "text/plain": [
       "\u001b[1m Non-trainable params: \u001b[0m\u001b[38;5;34m2,257,984\u001b[0m (8.61 MB)\n"
      ]
     },
     "metadata": {},
     "output_type": "display_data"
    }
   ],
   "source": [
    "modell = build_MobileNetV2_model(img_size, class_num)"
   ]
  },
  {
   "cell_type": "code",
   "execution_count": 7,
   "metadata": {},
   "outputs": [
    {
     "name": "stdout",
     "output_type": "stream",
     "text": [
      "Epoch 1/4\n",
      "\u001b[1m56/56\u001b[0m \u001b[32m━━━━━━━━━━━━━━━━━━━━\u001b[0m\u001b[37m\u001b[0m \u001b[1m53s\u001b[0m 688ms/step - accuracy: 0.6420 - loss: 1.1046 - precision: 0.8185 - recall: 0.4805 - val_accuracy: 0.8727 - val_loss: 0.3438 - val_precision: 0.9216 - val_recall: 0.8545\n",
      "Epoch 2/4\n",
      "\u001b[1m56/56\u001b[0m \u001b[32m━━━━━━━━━━━━━━━━━━━━\u001b[0m\u001b[37m\u001b[0m \u001b[1m34s\u001b[0m 604ms/step - accuracy: 0.9372 - loss: 0.2002 - precision: 0.9456 - recall: 0.9261 - val_accuracy: 0.8909 - val_loss: 0.2138 - val_precision: 0.9074 - val_recall: 0.8909\n",
      "Epoch 3/4\n",
      "\u001b[1m56/56\u001b[0m \u001b[32m━━━━━━━━━━━━━━━━━━━━\u001b[0m\u001b[37m\u001b[0m \u001b[1m35s\u001b[0m 613ms/step - accuracy: 0.9786 - loss: 0.0811 - precision: 0.9815 - recall: 0.9738 - val_accuracy: 0.9091 - val_loss: 0.1759 - val_precision: 0.9091 - val_recall: 0.9091\n",
      "Epoch 4/4\n",
      "\u001b[1m56/56\u001b[0m \u001b[32m━━━━━━━━━━━━━━━━━━━━\u001b[0m\u001b[37m\u001b[0m \u001b[1m31s\u001b[0m 555ms/step - accuracy: 0.9827 - loss: 0.0622 - precision: 0.9850 - recall: 0.9794 - val_accuracy: 0.9636 - val_loss: 0.1412 - val_precision: 0.9630 - val_recall: 0.9455\n"
     ]
    }
   ],
   "source": [
    "model_history = modell.fit(X_train, y_train_encoded, epochs=4, validation_data=(X_val,y_val_encoded))"
   ]
  },
  {
   "cell_type": "code",
   "execution_count": 8,
   "metadata": {},
   "outputs": [
    {
     "name": "stdout",
     "output_type": "stream",
     "text": [
      "\u001b[1m2/2\u001b[0m \u001b[32m━━━━━━━━━━━━━━━━━━━━\u001b[0m\u001b[37m\u001b[0m \u001b[1m7s\u001b[0m 4s/step\n"
     ]
    }
   ],
   "source": [
    "prediction = modell.predict(X_test)\n",
    "pred = np.argmax(prediction, axis=1)"
   ]
  },
  {
   "cell_type": "code",
   "execution_count": 9,
   "metadata": {},
   "outputs": [
    {
     "name": "stdout",
     "output_type": "stream",
     "text": [
      "Accuracy: 0.9454545454545454\n"
     ]
    }
   ],
   "source": [
    "accuracy = accuracy_score(y_test, pred)\n",
    "print(\"Accuracy:\", accuracy)"
   ]
  },
  {
   "cell_type": "code",
   "execution_count": 10,
   "metadata": {},
   "outputs": [
    {
     "name": "stdout",
     "output_type": "stream",
     "text": [
      "              precision    recall  f1-score   support\n",
      "\n",
      "           0       0.83      1.00      0.91         5\n",
      "           1       1.00      0.80      0.89         5\n",
      "           2       0.83      1.00      0.91         5\n",
      "           3       1.00      0.80      0.89         5\n",
      "           4       1.00      1.00      1.00         5\n",
      "           5       1.00      0.80      0.89         5\n",
      "           6       1.00      1.00      1.00         5\n",
      "           7       1.00      1.00      1.00         5\n",
      "           8       0.83      1.00      0.91         5\n",
      "           9       1.00      1.00      1.00         5\n",
      "          10       1.00      1.00      1.00         5\n",
      "\n",
      "    accuracy                           0.95        55\n",
      "   macro avg       0.95      0.95      0.94        55\n",
      "weighted avg       0.95      0.95      0.94        55\n",
      "\n"
     ]
    }
   ],
   "source": [
    "report = classification_report(y_test, pred)\n",
    "print(report)"
   ]
  },
  {
   "cell_type": "code",
   "execution_count": 11,
   "metadata": {},
   "outputs": [
    {
     "data": {
      "image/png": "[encoded data removed]",
      "text/plain": [
       "<Figure size 640x480 with 1 Axes>"
      ]
     },
     "metadata": {},
     "output_type": "display_data"
    }
   ],
   "source": [
    "fig = plt.figure()\n",
    "plt.plot(model_history.history[\"val_loss\"], color='red', label=\"val_loss\")\n",
    "plt.plot(model_history.history[\"val_accuracy\"], color='orange', label=\"val_accuracy\")\n",
    "plt.plot(model_history.history[\"val_precision\"], color='purple', label=\"val_precision\")\n",
    "plt.plot(model_history.history[\"val_recall\"], color='black', label=\"val_recall\")\n",
    "plt.plot(model_history.history[\"precision\"], color='blue', label=\"precision\")\n",
    "plt.plot(model_history.history[\"accuracy\"], color='green', label=\"accuracy\")\n",
    "plt.plot(model_history.history[\"recall\"], color='yellow', label=\"recall\")\n",
    "fig.suptitle(\"History\", fontsize=20)\n",
    "plt.legend(loc=\"upper left\")\n",
    "plt.show()"
   ]
  },
  {
   "cell_type": "code",
   "execution_count": 13,
   "metadata": {},
   "outputs": [
    {
     "name": "stderr",
     "output_type": "stream",
     "text": [
      "WARNING:absl:You are saving your model as an HDF5 file via `model.save()` or `keras.saving.save_model(model)`. This file format is considered legacy. We recommend using instead the native Keras format, e.g. `model.save('my_model.keras')` or `keras.saving.save_model(model, 'my_model.keras')`. \n"
     ]
    }
   ],
   "source": [
    "modell.save(\"MobileNet_model.h5\")"
   ]
  }
 ],
 "metadata": {
  "kernelspec": {
   "display_name": "Python 3",
   "language": "python",
   "name": "python3"
  },
  "language_info": {
   "codemirror_mode": {
    "name": "ipython",
    "version": 3
   },
   "file_extension": ".py",
   "mimetype": "text/x-python",
   "name": "python",
   "nbconvert_exporter": "python",
   "pygments_lexer": "ipython3",
   "version": "3.11.4"
  }
 },
 "nbformat": 4,
 "nbformat_minor": 2
}
