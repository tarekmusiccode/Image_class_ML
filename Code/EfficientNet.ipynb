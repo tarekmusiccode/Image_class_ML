{
 "cells": [
  {
   "cell_type": "markdown",
   "metadata": {},
   "source": [
    "## Misc imports"
   ]
  },
  {
   "cell_type": "code",
   "execution_count": 1,
   "metadata": {},
   "outputs": [],
   "source": [
    "import os\n",
    "import cv2\n",
    "import random\n",
    "from tqdm import tqdm"
   ]
  },
  {
   "cell_type": "markdown",
   "metadata": {},
   "source": [
    "## import libraries"
   ]
  },
  {
   "cell_type": "code",
   "execution_count": 2,
   "metadata": {},
   "outputs": [],
   "source": [
    "import matplotlib.pyplot as plt\n",
    "import numpy as np\n",
    "import tensorflow as tf\n",
    "from sklearn.model_selection import train_test_split\n",
    "from sklearn.preprocessing import OneHotEncoder\n",
    "from sklearn.metrics import accuracy_score, confusion_matrix, f1_score, precision_recall_curve, precision_score, classification_report\n",
    "from tensorflow.keras.models import Sequential\n",
    "from tensorflow.keras.layers import Conv2D, MaxPooling2D, Dense, Flatten\n",
    "from tensorflow.keras.utils import to_categorical\n",
    "from tensorflow.keras.preprocessing.image import ImageDataGenerator, load_img, img_to_array\n",
    "from tensorflow.keras import layers"
   ]
  },
  {
   "cell_type": "markdown",
   "metadata": {},
   "source": [
    "## Data Loading And Preprocessing"
   ]
  },
  {
   "cell_type": "code",
   "execution_count": 3,
   "metadata": {},
   "outputs": [
    {
     "name": "stderr",
     "output_type": "stream",
     "text": [
      "train data ABBOTTS BABBLER --->:   0%|          | 0/163 [00:00<?, ?it/s]"
     ]
    },
    {
     "name": "stderr",
     "output_type": "stream",
     "text": [
      "train data ABBOTTS BABBLER --->: 100%|██████████| 163/163 [00:01<00:00, 119.56it/s]\n",
      "test data ABBOTTS BABBLER --->: 100%|██████████| 5/5 [00:00<00:00, 62.49it/s]\n",
      "val data ABBOTTS BABBLER --->: 100%|██████████| 5/5 [00:00<00:00, 64.06it/s]\n",
      "train data ABBOTTS BOOBY --->: 100%|██████████| 180/180 [00:01<00:00, 123.29it/s]\n",
      "test data ABBOTTS BOOBY --->: 100%|██████████| 5/5 [00:00<00:00, 68.51it/s]\n",
      "val data ABBOTTS BOOBY --->: 100%|██████████| 5/5 [00:00<00:00, 121.67it/s]\n",
      "train data ABYSSINIAN GROUND HORNBILL --->: 100%|██████████| 179/179 [00:01<00:00, 121.27it/s]\n",
      "test data ABYSSINIAN GROUND HORNBILL --->: 100%|██████████| 5/5 [00:00<00:00, 124.71it/s]\n",
      "val data ABYSSINIAN GROUND HORNBILL --->: 100%|██████████| 5/5 [00:00<00:00, 128.20it/s]\n",
      "train data AFRICAN CROWNED CRANE --->: 100%|██████████| 135/135 [00:01<00:00, 119.67it/s]\n",
      "test data AFRICAN CROWNED CRANE --->: 100%|██████████| 5/5 [00:00<00:00, 131.27it/s]\n",
      "val data AFRICAN CROWNED CRANE --->: 100%|██████████| 5/5 [00:00<00:00, 151.36it/s]\n",
      "train data AFRICAN EMERALD CUCKOO --->: 100%|██████████| 154/154 [00:01<00:00, 125.62it/s]\n",
      "test data AFRICAN EMERALD CUCKOO --->: 100%|██████████| 5/5 [00:00<00:00, 151.51it/s]\n",
      "val data AFRICAN EMERALD CUCKOO --->: 100%|██████████| 5/5 [00:00<00:00, 125.00it/s]\n",
      "train data AFRICAN FIREFINCH --->: 100%|██████████| 137/137 [00:00<00:00, 138.84it/s]\n",
      "test data AFRICAN FIREFINCH --->: 100%|██████████| 5/5 [00:00<00:00, 125.00it/s]\n",
      "val data AFRICAN FIREFINCH --->: 100%|██████████| 5/5 [00:00<00:00, 84.75it/s]\n"
     ]
    }
   ],
   "source": [
    "img_size = 200\n",
    "\n",
    "datas = os.listdir(os.path.join(\"Data\", \"train\"))\n",
    "size_of_data = len(os.listdir(os.path.join(\"Data\", \"train\")))\n",
    "images_train = []\n",
    "images_test = []\n",
    "images_val = []\n",
    "\n",
    "class_num = -1\n",
    "for data in datas:\n",
    "    class_num += 1\n",
    "    for img in tqdm(os.listdir(os.path.join(\"Data\", \"train\", data)), desc=f\"train data {data} --->\"):\n",
    "        img_np = cv2.resize(cv2.imread(os.path.join(os.path.join(\"Data\", \"train\", data), img), cv2.COLOR_BGR2RGB).astype(np.float32) / 255., (img_size, img_size))\n",
    "        images_train.append(\n",
    "            {\n",
    "                \"Image\": img_np,\n",
    "                \"Class\": class_num,\n",
    "                class_num: data\n",
    "            })\n",
    "    for img in tqdm(os.listdir(os.path.join(\"Data\", \"test\", data)), desc=f\"test data {data} --->\"):\n",
    "        img_np = cv2.resize(cv2.imread(os.path.join(os.path.join(\"Data\", \"test\", data), img), cv2.COLOR_BGR2RGB).astype(np.float32) / 255., (img_size, img_size))\n",
    "        images_test.append(\n",
    "            {\n",
    "                \"Image\": img_np,\n",
    "                \"Class\": class_num,\n",
    "                class_num: data\n",
    "            })\n",
    "    for img in tqdm(os.listdir(os.path.join(\"Data\", \"valid\", data)), desc=f\"val data {data} --->\"):\n",
    "        img_np = cv2.resize(cv2.imread(os.path.join(os.path.join(\"Data\", \"valid\", data), img), cv2.COLOR_BGR2RGB).astype(np.float32) / 255., (img_size, img_size))\n",
    "        images_val.append(\n",
    "            {\n",
    "                \"Image\": img_np,\n",
    "                \"Class\": class_num,\n",
    "                class_num: data\n",
    "            })\n",
    "    if class_num == 5:\n",
    "        class_num += 1\n",
    "        break"
   ]
  },
  {
   "cell_type": "markdown",
   "metadata": {},
   "source": [
    "## Split And Encoding\n"
   ]
  },
  {
   "cell_type": "code",
   "execution_count": 4,
   "metadata": {},
   "outputs": [],
   "source": [
    "X_train = []\n",
    "y_train = []\n",
    "for data in images_train:\n",
    "    X_train.append(data[\"Image\"])\n",
    "    y_train.append(data[\"Class\"])\n",
    "X_test = []\n",
    "y_test = []\n",
    "for data in images_test:\n",
    "    X_test.append(data[\"Image\"])\n",
    "    y_test.append(data[\"Class\"])\n",
    "X_val = []\n",
    "y_val = []\n",
    "for data in images_val:\n",
    "    X_val.append(data[\"Image\"])\n",
    "    y_val.append(data[\"Class\"])\n",
    "\n",
    "\n",
    "X_train = np.array(X_train).reshape(-1, img_size, img_size, 3)\n",
    "y_train = np.array(y_train)\n",
    "X_test = np.array(X_test).reshape(-1, img_size, img_size, 3)\n",
    "y_test = np.array(y_test)\n",
    "X_val = np.array(X_val).reshape(-1, img_size, img_size, 3)\n",
    "y_val = np.array(y_val)"
   ]
  },
  {
   "cell_type": "code",
   "execution_count": 5,
   "metadata": {},
   "outputs": [],
   "source": [
    "y_train_encoded = to_categorical(y_train, num_classes=class_num)\n",
    "y_test_encoded = to_categorical(y_test, num_classes=class_num)\n",
    "y_val_encoded = to_categorical(y_test, num_classes=class_num)"
   ]
  },
  {
   "cell_type": "code",
   "execution_count": 6,
   "metadata": {},
   "outputs": [
    {
     "name": "stdout",
     "output_type": "stream",
     "text": [
      "(948, 200, 200, 3)\n",
      "(948,)\n",
      "(948, 6)\n",
      "(30, 200, 200, 3)\n",
      "(30,)\n",
      "(30, 6)\n",
      "(30, 200, 200, 3)\n",
      "(30,)\n",
      "(30, 6)\n"
     ]
    }
   ],
   "source": [
    "print(X_train.shape)\n",
    "print(y_train.shape)\n",
    "print(y_train_encoded.shape)\n",
    "print(X_test.shape)\n",
    "print(y_test.shape)\n",
    "print(y_test_encoded.shape)\n",
    "print(X_val.shape)\n",
    "print(y_val.shape)\n",
    "print(y_val_encoded.shape)"
   ]
  },
  {
   "cell_type": "code",
   "execution_count": 7,
   "metadata": {},
   "outputs": [],
   "source": [
    "def build_efficientnet_model(img_size, class_num):\n",
    "    # Define the input shape\n",
    "    img_shape = (img_size, img_size, 3)\n",
    "    \n",
    "    # Load pre-trained EfficientNet model\n",
    "    efficient_net = tf.keras.applications.EfficientNetB0(include_top=False,\n",
    "                                            weights='imagenet',\n",
    "                                            input_shape=img_shape)\n",
    "\n",
    "    # Freeze layers in the base model\n",
    "    for layer in efficient_net.layers:\n",
    "        layer.trainable = False\n",
    "\n",
    "    # Create a sequential model\n",
    "    model = Sequential()\n",
    "\n",
    "    # Add the base model\n",
    "    model.add(efficient_net)\n",
    "\n",
    "    # Add a global average pooling layer\n",
    "    model.add(layers.GlobalAveragePooling2D())\n",
    "\n",
    "    # Add a flatten layer\n",
    "    model.add(layers.Flatten())\n",
    "\n",
    "    # Add final classification layers\n",
    "    model.add(layers.Dense(256, activation='relu'))\n",
    "    model.add(layers.Dense(class_num, activation='softmax'))\n",
    "    \n",
    "    model.build((None, img_size, img_size, 3))\n",
    "\n",
    "    # Compile the model\n",
    "    model.compile(optimizer='adam', loss='categorical_crossentropy', metrics=['accuracy', 'precision', 'recall'])\n",
    "\n",
    "    # Print model summary\n",
    "    model.summary()\n",
    "\n",
    "    # visualization_path = 'efficientnet_model_visualization.png'\n",
    "    # tf.keras.utils.plot_model(model, to_file=visualization_path, show_shapes=True, show_layer_names=True)\n",
    "\n",
    "    # print(f\"Model visualization saved to {visualization_path}\")\n",
    "\n",
    "    return model"
   ]
  },
  {
   "cell_type": "code",
   "execution_count": 8,
   "metadata": {},
   "outputs": [
    {
     "data": {
      "text/html": [
       "<pre style=\"white-space:pre;overflow-x:auto;line-height:normal;font-family:Menlo,'DejaVu Sans Mono',consolas,'Courier New',monospace\"><span style=\"font-weight: bold\">Model: \"sequential\"</span>\n",
       "</pre>\n"
      ],
      "text/plain": [
       "\u001b[1mModel: \"sequential\"\u001b[0m\n"
      ]
     },
     "metadata": {},
     "output_type": "display_data"
    },
    {
     "data": {
      "text/html": [
       "<pre style=\"white-space:pre;overflow-x:auto;line-height:normal;font-family:Menlo,'DejaVu Sans Mono',consolas,'Courier New',monospace\">┏━━━━━━━━━━━━━━━━━━━━━━━━━━━━━━━━━┳━━━━━━━━━━━━━━━━━━━━━━━━┳━━━━━━━━━━━━━━━┓\n",
       "┃<span style=\"font-weight: bold\"> Layer (type)                    </span>┃<span style=\"font-weight: bold\"> Output Shape           </span>┃<span style=\"font-weight: bold\">       Param # </span>┃\n",
       "┡━━━━━━━━━━━━━━━━━━━━━━━━━━━━━━━━━╇━━━━━━━━━━━━━━━━━━━━━━━━╇━━━━━━━━━━━━━━━┩\n",
       "│ efficientnetb0 (<span style=\"color: #0087ff; text-decoration-color: #0087ff\">Functional</span>)     │ (<span style=\"color: #00d7ff; text-decoration-color: #00d7ff\">None</span>, <span style=\"color: #00af00; text-decoration-color: #00af00\">7</span>, <span style=\"color: #00af00; text-decoration-color: #00af00\">7</span>, <span style=\"color: #00af00; text-decoration-color: #00af00\">1280</span>)     │     <span style=\"color: #00af00; text-decoration-color: #00af00\">4,049,571</span> │\n",
       "├─────────────────────────────────┼────────────────────────┼───────────────┤\n",
       "│ global_average_pooling2d        │ (<span style=\"color: #00d7ff; text-decoration-color: #00d7ff\">None</span>, <span style=\"color: #00af00; text-decoration-color: #00af00\">1280</span>)           │             <span style=\"color: #00af00; text-decoration-color: #00af00\">0</span> │\n",
       "│ (<span style=\"color: #0087ff; text-decoration-color: #0087ff\">GlobalAveragePooling2D</span>)        │                        │               │\n",
       "├─────────────────────────────────┼────────────────────────┼───────────────┤\n",
       "│ flatten (<span style=\"color: #0087ff; text-decoration-color: #0087ff\">Flatten</span>)               │ (<span style=\"color: #00d7ff; text-decoration-color: #00d7ff\">None</span>, <span style=\"color: #00af00; text-decoration-color: #00af00\">1280</span>)           │             <span style=\"color: #00af00; text-decoration-color: #00af00\">0</span> │\n",
       "├─────────────────────────────────┼────────────────────────┼───────────────┤\n",
       "│ dense (<span style=\"color: #0087ff; text-decoration-color: #0087ff\">Dense</span>)                   │ (<span style=\"color: #00d7ff; text-decoration-color: #00d7ff\">None</span>, <span style=\"color: #00af00; text-decoration-color: #00af00\">256</span>)            │       <span style=\"color: #00af00; text-decoration-color: #00af00\">327,936</span> │\n",
       "├─────────────────────────────────┼────────────────────────┼───────────────┤\n",
       "│ dense_1 (<span style=\"color: #0087ff; text-decoration-color: #0087ff\">Dense</span>)                 │ (<span style=\"color: #00d7ff; text-decoration-color: #00d7ff\">None</span>, <span style=\"color: #00af00; text-decoration-color: #00af00\">6</span>)              │         <span style=\"color: #00af00; text-decoration-color: #00af00\">1,542</span> │\n",
       "└─────────────────────────────────┴────────────────────────┴───────────────┘\n",
       "</pre>\n"
      ],
      "text/plain": [
       "┏━━━━━━━━━━━━━━━━━━━━━━━━━━━━━━━━━┳━━━━━━━━━━━━━━━━━━━━━━━━┳━━━━━━━━━━━━━━━┓\n",
       "┃\u001b[1m \u001b[0m\u001b[1mLayer (type)                   \u001b[0m\u001b[1m \u001b[0m┃\u001b[1m \u001b[0m\u001b[1mOutput Shape          \u001b[0m\u001b[1m \u001b[0m┃\u001b[1m \u001b[0m\u001b[1m      Param #\u001b[0m\u001b[1m \u001b[0m┃\n",
       "┡━━━━━━━━━━━━━━━━━━━━━━━━━━━━━━━━━╇━━━━━━━━━━━━━━━━━━━━━━━━╇━━━━━━━━━━━━━━━┩\n",
       "│ efficientnetb0 (\u001b[38;5;33mFunctional\u001b[0m)     │ (\u001b[38;5;45mNone\u001b[0m, \u001b[38;5;34m7\u001b[0m, \u001b[38;5;34m7\u001b[0m, \u001b[38;5;34m1280\u001b[0m)     │     \u001b[38;5;34m4,049,571\u001b[0m │\n",
       "├─────────────────────────────────┼────────────────────────┼───────────────┤\n",
       "│ global_average_pooling2d        │ (\u001b[38;5;45mNone\u001b[0m, \u001b[38;5;34m1280\u001b[0m)           │             \u001b[38;5;34m0\u001b[0m │\n",
       "│ (\u001b[38;5;33mGlobalAveragePooling2D\u001b[0m)        │                        │               │\n",
       "├─────────────────────────────────┼────────────────────────┼───────────────┤\n",
       "│ flatten (\u001b[38;5;33mFlatten\u001b[0m)               │ (\u001b[38;5;45mNone\u001b[0m, \u001b[38;5;34m1280\u001b[0m)           │             \u001b[38;5;34m0\u001b[0m │\n",
       "├─────────────────────────────────┼────────────────────────┼───────────────┤\n",
       "│ dense (\u001b[38;5;33mDense\u001b[0m)                   │ (\u001b[38;5;45mNone\u001b[0m, \u001b[38;5;34m256\u001b[0m)            │       \u001b[38;5;34m327,936\u001b[0m │\n",
       "├─────────────────────────────────┼────────────────────────┼───────────────┤\n",
       "│ dense_1 (\u001b[38;5;33mDense\u001b[0m)                 │ (\u001b[38;5;45mNone\u001b[0m, \u001b[38;5;34m6\u001b[0m)              │         \u001b[38;5;34m1,542\u001b[0m │\n",
       "└─────────────────────────────────┴────────────────────────┴───────────────┘\n"
      ]
     },
     "metadata": {},
     "output_type": "display_data"
    },
    {
     "data": {
      "text/html": [
       "<pre style=\"white-space:pre;overflow-x:auto;line-height:normal;font-family:Menlo,'DejaVu Sans Mono',consolas,'Courier New',monospace\"><span style=\"font-weight: bold\"> Total params: </span><span style=\"color: #00af00; text-decoration-color: #00af00\">4,379,049</span> (16.70 MB)\n",
       "</pre>\n"
      ],
      "text/plain": [
       "\u001b[1m Total params: \u001b[0m\u001b[38;5;34m4,379,049\u001b[0m (16.70 MB)\n"
      ]
     },
     "metadata": {},
     "output_type": "display_data"
    },
    {
     "data": {
      "text/html": [
       "<pre style=\"white-space:pre;overflow-x:auto;line-height:normal;font-family:Menlo,'DejaVu Sans Mono',consolas,'Courier New',monospace\"><span style=\"font-weight: bold\"> Trainable params: </span><span style=\"color: #00af00; text-decoration-color: #00af00\">329,478</span> (1.26 MB)\n",
       "</pre>\n"
      ],
      "text/plain": [
       "\u001b[1m Trainable params: \u001b[0m\u001b[38;5;34m329,478\u001b[0m (1.26 MB)\n"
      ]
     },
     "metadata": {},
     "output_type": "display_data"
    },
    {
     "data": {
      "text/html": [
       "<pre style=\"white-space:pre;overflow-x:auto;line-height:normal;font-family:Menlo,'DejaVu Sans Mono',consolas,'Courier New',monospace\"><span style=\"font-weight: bold\"> Non-trainable params: </span><span style=\"color: #00af00; text-decoration-color: #00af00\">4,049,571</span> (15.45 MB)\n",
       "</pre>\n"
      ],
      "text/plain": [
       "\u001b[1m Non-trainable params: \u001b[0m\u001b[38;5;34m4,049,571\u001b[0m (15.45 MB)\n"
      ]
     },
     "metadata": {},
     "output_type": "display_data"
    }
   ],
   "source": [
    "single_model = build_efficientnet_model(img_size, class_num)"
   ]
  },
  {
   "cell_type": "code",
   "execution_count": 11,
   "metadata": {},
   "outputs": [
    {
     "name": "stdout",
     "output_type": "stream",
     "text": [
      "Epoch 1/2\n",
      "\u001b[1m30/30\u001b[0m \u001b[32m━━━━━━━━━━━━━━━━━━━━\u001b[0m\u001b[37m\u001b[0m \u001b[1m24s\u001b[0m 794ms/step - accuracy: 0.2087 - loss: 1.7884 - precision: 0.0000e+00 - recall: 0.0000e+00 - val_accuracy: 0.1667 - val_loss: 1.7955 - val_precision: 0.0000e+00 - val_recall: 0.0000e+00\n",
      "Epoch 2/2\n",
      "\u001b[1m30/30\u001b[0m \u001b[32m━━━━━━━━━━━━━━━━━━━━\u001b[0m\u001b[37m\u001b[0m \u001b[1m23s\u001b[0m 754ms/step - accuracy: 0.1754 - loss: 1.7912 - precision: 0.0000e+00 - recall: 0.0000e+00 - val_accuracy: 0.1667 - val_loss: 1.7974 - val_precision: 0.0000e+00 - val_recall: 0.0000e+00\n"
     ]
    }
   ],
   "source": [
    "model_history = single_model.fit(X_train, y_train_encoded, epochs=2, validation_data=(X_val, y_val_encoded))"
   ]
  },
  {
   "cell_type": "code",
   "execution_count": 12,
   "metadata": {},
   "outputs": [
    {
     "name": "stdout",
     "output_type": "stream",
     "text": [
      "\u001b[1m1/1\u001b[0m \u001b[32m━━━━━━━━━━━━━━━━━━━━\u001b[0m\u001b[37m\u001b[0m \u001b[1m2s\u001b[0m 2s/step\n"
     ]
    }
   ],
   "source": [
    "prediction = single_model.predict(X_test)"
   ]
  },
  {
   "cell_type": "code",
   "execution_count": 13,
   "metadata": {},
   "outputs": [],
   "source": [
    "pred = np.argmax(prediction, axis=1)"
   ]
  },
  {
   "cell_type": "code",
   "execution_count": 14,
   "metadata": {},
   "outputs": [
    {
     "name": "stdout",
     "output_type": "stream",
     "text": [
      "Accuracy: 0.16666666666666666\n"
     ]
    }
   ],
   "source": [
    "accuracy = accuracy_score(y_test, pred)\n",
    "print(\"Accuracy:\", accuracy)"
   ]
  }
 ],
 "metadata": {
  "kernelspec": {
   "display_name": "Python 3",
   "language": "python",
   "name": "python3"
  },
  "language_info": {
   "codemirror_mode": {
    "name": "ipython",
    "version": 3
   },
   "file_extension": ".py",
   "mimetype": "text/x-python",
   "name": "python",
   "nbconvert_exporter": "python",
   "pygments_lexer": "ipython3",
   "version": "3.11.4"
  }
 },
 "nbformat": 4,
 "nbformat_minor": 2
}
